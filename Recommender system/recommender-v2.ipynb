{
 "cells": [
  {
   "cell_type": "markdown",
   "metadata": {},
   "source": [
    "# Movie Recommendations\n",
    "\n",
    "MovieLens is a research site run by GroupLens Research at the University of Minnesota. MovieLens (https://movielens.org/) shares with community several datasets containing user's ratings of some movies. \n",
    "\n",
    "Our goal is to build a recommender system that will recommend user some movies that he probably would like to see based on his already collected ratings of other movies. For the purposes of this exercise we will focus on using Collaborative Filtering as our approach.\n",
    "\n",
    "![alt text](https://cdn.codecentric.de/20210310095830/Fig1-1.png)\n",
    "\n",
    "\n",
    "\n"
   ]
  },
  {
   "cell_type": "markdown",
   "metadata": {},
   "source": [
    "# Libraries"
   ]
  },
  {
   "cell_type": "code",
   "execution_count": 1,
   "metadata": {},
   "outputs": [],
   "source": [
    "#Surprise is an open-source Python library for building recommender systems with explicit rating data. \n",
    "#install scikit surprise using terminal with code below\n",
    "\n",
    "#conda install -c conda-forge scikit-surprise\n"
   ]
  },
  {
   "cell_type": "code",
   "execution_count": 10,
   "id": "f1c54a45",
   "metadata": {},
   "outputs": [
    {
     "name": "stdout",
     "output_type": "stream",
     "text": [
      "Requirement already satisfied: surprise in /Users/ckabandala/anaconda3/lib/python3.11/site-packages (0.1)\n",
      "Requirement already satisfied: scikit-surprise in /Users/ckabandala/anaconda3/lib/python3.11/site-packages (from surprise) (1.1.3)\n",
      "Requirement already satisfied: joblib>=1.0.0 in /Users/ckabandala/anaconda3/lib/python3.11/site-packages (from scikit-surprise->surprise) (1.2.0)\n",
      "Requirement already satisfied: numpy>=1.17.3 in /Users/ckabandala/anaconda3/lib/python3.11/site-packages (from scikit-surprise->surprise) (1.24.3)\n",
      "Requirement already satisfied: scipy>=1.3.2 in /Users/ckabandala/anaconda3/lib/python3.11/site-packages (from scikit-surprise->surprise) (1.10.1)\n",
      "Requirement already satisfied: scikit-surprise in /Users/ckabandala/anaconda3/lib/python3.11/site-packages (1.1.3)\n",
      "Requirement already satisfied: joblib>=1.0.0 in /Users/ckabandala/anaconda3/lib/python3.11/site-packages (from scikit-surprise) (1.2.0)\n",
      "Requirement already satisfied: numpy>=1.17.3 in /Users/ckabandala/anaconda3/lib/python3.11/site-packages (from scikit-surprise) (1.24.3)\n",
      "Requirement already satisfied: scipy>=1.3.2 in /Users/ckabandala/anaconda3/lib/python3.11/site-packages (from scikit-surprise) (1.10.1)\n"
     ]
    }
   ],
   "source": [
    "! pip install surprise\n",
    "\n",
    "! pip install scikit-surprise"
   ]
  },
  {
   "cell_type": "code",
   "execution_count": 11,
   "metadata": {},
   "outputs": [],
   "source": [
    "# allows us to access dataframes\n",
    "import pandas as pd\n",
    "\n",
    "# specialized class for handling sparse matrices (compressed)\n",
    "from scipy.sparse import csr_matrix\n",
    "\n",
    "# Library for visualizing charts\n",
    "import matplotlib.pylab as plt\n",
    "\n",
    "\n",
    "# Gives us access to the unsupervised algorithm knn \n",
    "from sklearn.neighbors import NearestNeighbors\n",
    "\n",
    "# Surprise is an easy-to-use Python scikit for recommender systems.\n",
    "from surprise import SVD #SVD algorithm\n",
    "from surprise import KNNBasic # Knn algorithm\n",
    "from surprise import Dataset # Utility for loading datasets\n",
    "from surprise import Reader # Allows surprise to interpret the ratings\n",
    "from surprise.model_selection import cross_validate # cross validation utility\n"
   ]
  },
  {
   "cell_type": "markdown",
   "metadata": {},
   "source": [
    "# Exploration"
   ]
  },
  {
   "cell_type": "code",
   "execution_count": 12,
   "metadata": {},
   "outputs": [
    {
     "data": {
      "text/plain": [
       "movieId     int64\n",
       "title      object\n",
       "genres     object\n",
       "dtype: object"
      ]
     },
     "execution_count": 12,
     "metadata": {},
     "output_type": "execute_result"
    }
   ],
   "source": [
    "# https://grouplens.org/datasets/movielens\n",
    "# https://files.grouplens.org/datasets/movielens/ml-latest-small.zip\n",
    "\n",
    "movies_df = pd.read_csv(\"/Users/ckabandala/Desktop/FILES/PMDSA/PMDSA Files/Practical ML/Recommender system/movies.csv\")\n",
    "movies_df = movies_df.drop_duplicates() #remove duplicate rows\n",
    "movies_df.dtypes"
   ]
  },
  {
   "cell_type": "code",
   "execution_count": 9,
   "metadata": {},
   "outputs": [
    {
     "data": {
      "text/plain": [
       "(9742, 3)"
      ]
     },
     "execution_count": 9,
     "metadata": {},
     "output_type": "execute_result"
    }
   ],
   "source": [
    "movies_df.shape"
   ]
  },
  {
   "cell_type": "code",
   "execution_count": 13,
   "metadata": {},
   "outputs": [
    {
     "data": {
      "text/html": [
       "<div>\n",
       "<style scoped>\n",
       "    .dataframe tbody tr th:only-of-type {\n",
       "        vertical-align: middle;\n",
       "    }\n",
       "\n",
       "    .dataframe tbody tr th {\n",
       "        vertical-align: top;\n",
       "    }\n",
       "\n",
       "    .dataframe thead th {\n",
       "        text-align: right;\n",
       "    }\n",
       "</style>\n",
       "<table border=\"1\" class=\"dataframe\">\n",
       "  <thead>\n",
       "    <tr style=\"text-align: right;\">\n",
       "      <th></th>\n",
       "      <th>movieId</th>\n",
       "      <th>title</th>\n",
       "      <th>genres</th>\n",
       "    </tr>\n",
       "  </thead>\n",
       "  <tbody>\n",
       "    <tr>\n",
       "      <th>0</th>\n",
       "      <td>1</td>\n",
       "      <td>Toy Story (1995)</td>\n",
       "      <td>Adventure|Animation|Children|Comedy|Fantasy</td>\n",
       "    </tr>\n",
       "    <tr>\n",
       "      <th>1</th>\n",
       "      <td>2</td>\n",
       "      <td>Jumanji (1995)</td>\n",
       "      <td>Adventure|Children|Fantasy</td>\n",
       "    </tr>\n",
       "    <tr>\n",
       "      <th>2</th>\n",
       "      <td>3</td>\n",
       "      <td>Grumpier Old Men (1995)</td>\n",
       "      <td>Comedy|Romance</td>\n",
       "    </tr>\n",
       "    <tr>\n",
       "      <th>3</th>\n",
       "      <td>4</td>\n",
       "      <td>Waiting to Exhale (1995)</td>\n",
       "      <td>Comedy|Drama|Romance</td>\n",
       "    </tr>\n",
       "    <tr>\n",
       "      <th>4</th>\n",
       "      <td>5</td>\n",
       "      <td>Father of the Bride Part II (1995)</td>\n",
       "      <td>Comedy</td>\n",
       "    </tr>\n",
       "  </tbody>\n",
       "</table>\n",
       "</div>"
      ],
      "text/plain": [
       "   movieId                               title  \\\n",
       "0        1                    Toy Story (1995)   \n",
       "1        2                      Jumanji (1995)   \n",
       "2        3             Grumpier Old Men (1995)   \n",
       "3        4            Waiting to Exhale (1995)   \n",
       "4        5  Father of the Bride Part II (1995)   \n",
       "\n",
       "                                        genres  \n",
       "0  Adventure|Animation|Children|Comedy|Fantasy  \n",
       "1                   Adventure|Children|Fantasy  \n",
       "2                               Comedy|Romance  \n",
       "3                         Comedy|Drama|Romance  \n",
       "4                                       Comedy  "
      ]
     },
     "execution_count": 13,
     "metadata": {},
     "output_type": "execute_result"
    }
   ],
   "source": [
    "movies_df.head()"
   ]
  },
  {
   "cell_type": "code",
   "execution_count": 15,
   "metadata": {},
   "outputs": [
    {
     "data": {
      "text/plain": [
       "userId         int64\n",
       "movieId        int64\n",
       "rating       float64\n",
       "timestamp      int64\n",
       "dtype: object"
      ]
     },
     "execution_count": 15,
     "metadata": {},
     "output_type": "execute_result"
    }
   ],
   "source": [
    "ratings_df = pd.read_csv(\"/Users/ckabandala/Desktop/FILES/PMDSA/PMDSA Files/Practical ML/Recommender system/ratings.csv\")\n",
    "ratings_df = ratings_df.drop_duplicates() #remove duplicate rows\n",
    "ratings_df.dtypes"
   ]
  },
  {
   "cell_type": "code",
   "execution_count": 16,
   "metadata": {},
   "outputs": [
    {
     "data": {
      "text/plain": [
       "(100836, 4)"
      ]
     },
     "execution_count": 16,
     "metadata": {},
     "output_type": "execute_result"
    }
   ],
   "source": [
    "ratings_df.shape"
   ]
  },
  {
   "cell_type": "code",
   "execution_count": 17,
   "metadata": {},
   "outputs": [
    {
     "name": "stdout",
     "output_type": "stream",
     "text": [
      "There are 610 unique users and 9724 unique movies in this data set\n"
     ]
    }
   ],
   "source": [
    "#understand unique counts for the dataset\n",
    "\n",
    "num_users = len(ratings_df.userId.unique())\n",
    "num_items = len(ratings_df.movieId.unique())\n",
    "print('There are {} unique users and {} unique movies in this data set'.format(num_users, num_items))"
   ]
  },
  {
   "cell_type": "code",
   "execution_count": 18,
   "metadata": {
    "scrolled": false
   },
   "outputs": [
    {
     "data": {
      "text/html": [
       "<div>\n",
       "<style scoped>\n",
       "    .dataframe tbody tr th:only-of-type {\n",
       "        vertical-align: middle;\n",
       "    }\n",
       "\n",
       "    .dataframe tbody tr th {\n",
       "        vertical-align: top;\n",
       "    }\n",
       "\n",
       "    .dataframe thead th {\n",
       "        text-align: right;\n",
       "    }\n",
       "</style>\n",
       "<table border=\"1\" class=\"dataframe\">\n",
       "  <thead>\n",
       "    <tr style=\"text-align: right;\">\n",
       "      <th></th>\n",
       "      <th>userId</th>\n",
       "      <th>movieId</th>\n",
       "      <th>rating</th>\n",
       "      <th>timestamp</th>\n",
       "    </tr>\n",
       "  </thead>\n",
       "  <tbody>\n",
       "    <tr>\n",
       "      <th>0</th>\n",
       "      <td>1</td>\n",
       "      <td>1</td>\n",
       "      <td>4.0</td>\n",
       "      <td>964982703</td>\n",
       "    </tr>\n",
       "    <tr>\n",
       "      <th>1</th>\n",
       "      <td>1</td>\n",
       "      <td>3</td>\n",
       "      <td>4.0</td>\n",
       "      <td>964981247</td>\n",
       "    </tr>\n",
       "    <tr>\n",
       "      <th>2</th>\n",
       "      <td>1</td>\n",
       "      <td>6</td>\n",
       "      <td>4.0</td>\n",
       "      <td>964982224</td>\n",
       "    </tr>\n",
       "    <tr>\n",
       "      <th>3</th>\n",
       "      <td>1</td>\n",
       "      <td>47</td>\n",
       "      <td>5.0</td>\n",
       "      <td>964983815</td>\n",
       "    </tr>\n",
       "    <tr>\n",
       "      <th>4</th>\n",
       "      <td>1</td>\n",
       "      <td>50</td>\n",
       "      <td>5.0</td>\n",
       "      <td>964982931</td>\n",
       "    </tr>\n",
       "  </tbody>\n",
       "</table>\n",
       "</div>"
      ],
      "text/plain": [
       "   userId  movieId  rating  timestamp\n",
       "0       1        1     4.0  964982703\n",
       "1       1        3     4.0  964981247\n",
       "2       1        6     4.0  964982224\n",
       "3       1       47     5.0  964983815\n",
       "4       1       50     5.0  964982931"
      ]
     },
     "execution_count": 18,
     "metadata": {},
     "output_type": "execute_result"
    }
   ],
   "source": [
    "ratings_df.head()"
   ]
  },
  {
   "cell_type": "code",
   "execution_count": 19,
   "metadata": {},
   "outputs": [
    {
     "data": {
      "text/plain": [
       "Text(0.5, 1.0, 'Count of Movie Ratings per User Id')"
      ]
     },
     "execution_count": 19,
     "metadata": {},
     "output_type": "execute_result"
    },
    {
     "data": {
      "image/png": "[encoded data removed]",
      "text/plain": [
       "<Figure size 640x480 with 1 Axes>"
      ]
     },
     "metadata": {},
     "output_type": "display_data"
    }
   ],
   "source": [
    "# How many ratings per User ID do we have?\n",
    "\n",
    "ratings_df[['userId','movieId']].groupby(['userId']).count().hist()\n",
    "plt.title(\"Count of Movie Ratings per User Id\")\n",
    "\n",
    "\n",
    "# most of the user have XX number of ratings"
   ]
  },
  {
   "cell_type": "code",
   "execution_count": 20,
   "metadata": {},
   "outputs": [
    {
     "data": {
      "text/html": [
       "<div>\n",
       "<style scoped>\n",
       "    .dataframe tbody tr th:only-of-type {\n",
       "        vertical-align: middle;\n",
       "    }\n",
       "\n",
       "    .dataframe tbody tr th {\n",
       "        vertical-align: top;\n",
       "    }\n",
       "\n",
       "    .dataframe thead th {\n",
       "        text-align: right;\n",
       "    }\n",
       "</style>\n",
       "<table border=\"1\" class=\"dataframe\">\n",
       "  <thead>\n",
       "    <tr style=\"text-align: right;\">\n",
       "      <th></th>\n",
       "      <th>movieId</th>\n",
       "    </tr>\n",
       "  </thead>\n",
       "  <tbody>\n",
       "    <tr>\n",
       "      <th>count</th>\n",
       "      <td>610.000000</td>\n",
       "    </tr>\n",
       "    <tr>\n",
       "      <th>mean</th>\n",
       "      <td>165.304918</td>\n",
       "    </tr>\n",
       "    <tr>\n",
       "      <th>std</th>\n",
       "      <td>269.480584</td>\n",
       "    </tr>\n",
       "    <tr>\n",
       "      <th>min</th>\n",
       "      <td>20.000000</td>\n",
       "    </tr>\n",
       "    <tr>\n",
       "      <th>25%</th>\n",
       "      <td>35.000000</td>\n",
       "    </tr>\n",
       "    <tr>\n",
       "      <th>50%</th>\n",
       "      <td>70.500000</td>\n",
       "    </tr>\n",
       "    <tr>\n",
       "      <th>75%</th>\n",
       "      <td>168.000000</td>\n",
       "    </tr>\n",
       "    <tr>\n",
       "      <th>max</th>\n",
       "      <td>2698.000000</td>\n",
       "    </tr>\n",
       "  </tbody>\n",
       "</table>\n",
       "</div>"
      ],
      "text/plain": [
       "           movieId\n",
       "count   610.000000\n",
       "mean    165.304918\n",
       "std     269.480584\n",
       "min      20.000000\n",
       "25%      35.000000\n",
       "50%      70.500000\n",
       "75%     168.000000\n",
       "max    2698.000000"
      ]
     },
     "execution_count": 20,
     "metadata": {},
     "output_type": "execute_result"
    }
   ],
   "source": [
    "ratings_df[['userId','movieId']].groupby(['userId']).count().describe()\n",
    "\n",
    "# there are 610 unique users\n",
    "# what else can we say about the users?"
   ]
  },
  {
   "cell_type": "code",
   "execution_count": 21,
   "metadata": {},
   "outputs": [
    {
     "data": {
      "text/plain": [
       "Text(0.5, 1.0, 'Count of User Ratings per Movie Id')"
      ]
     },
     "execution_count": 21,
     "metadata": {},
     "output_type": "execute_result"
    },
    {
     "data": {
      "image/png": "[encoded data removed]",
      "text/plain": [
       "<Figure size 640x480 with 1 Axes>"
      ]
     },
     "metadata": {},
     "output_type": "display_data"
    }
   ],
   "source": [
    "#How many user ratings per movie id do we have\n",
    "\n",
    "ratings_df[['userId','movieId']].groupby(['movieId']).count().hist()\n",
    "plt.title(\"Count of User Ratings per Movie Id\")"
   ]
  },
  {
   "cell_type": "code",
   "execution_count": 13,
   "metadata": {
    "scrolled": true
   },
   "outputs": [
    {
     "data": {
      "text/html": [
       "<div>\n",
       "<style scoped>\n",
       "    .dataframe tbody tr th:only-of-type {\n",
       "        vertical-align: middle;\n",
       "    }\n",
       "\n",
       "    .dataframe tbody tr th {\n",
       "        vertical-align: top;\n",
       "    }\n",
       "\n",
       "    .dataframe thead th {\n",
       "        text-align: right;\n",
       "    }\n",
       "</style>\n",
       "<table border=\"1\" class=\"dataframe\">\n",
       "  <thead>\n",
       "    <tr style=\"text-align: right;\">\n",
       "      <th></th>\n",
       "      <th>userId</th>\n",
       "    </tr>\n",
       "  </thead>\n",
       "  <tbody>\n",
       "    <tr>\n",
       "      <th>count</th>\n",
       "      <td>9724.000000</td>\n",
       "    </tr>\n",
       "    <tr>\n",
       "      <th>mean</th>\n",
       "      <td>10.369807</td>\n",
       "    </tr>\n",
       "    <tr>\n",
       "      <th>std</th>\n",
       "      <td>22.401005</td>\n",
       "    </tr>\n",
       "    <tr>\n",
       "      <th>min</th>\n",
       "      <td>1.000000</td>\n",
       "    </tr>\n",
       "    <tr>\n",
       "      <th>25%</th>\n",
       "      <td>1.000000</td>\n",
       "    </tr>\n",
       "    <tr>\n",
       "      <th>50%</th>\n",
       "      <td>3.000000</td>\n",
       "    </tr>\n",
       "    <tr>\n",
       "      <th>75%</th>\n",
       "      <td>9.000000</td>\n",
       "    </tr>\n",
       "    <tr>\n",
       "      <th>max</th>\n",
       "      <td>329.000000</td>\n",
       "    </tr>\n",
       "  </tbody>\n",
       "</table>\n",
       "</div>"
      ],
      "text/plain": [
       "            userId\n",
       "count  9724.000000\n",
       "mean     10.369807\n",
       "std      22.401005\n",
       "min       1.000000\n",
       "25%       1.000000\n",
       "50%       3.000000\n",
       "75%       9.000000\n",
       "max     329.000000"
      ]
     },
     "execution_count": 13,
     "metadata": {},
     "output_type": "execute_result"
    }
   ],
   "source": [
    "ratings_df[['userId','movieId']].groupby(['movieId']).count().describe()"
   ]
  },
  {
   "cell_type": "code",
   "execution_count": 14,
   "metadata": {},
   "outputs": [],
   "source": [
    "# based on this we can identify a threshold for amount of ratings to use per user/movie \n",
    "# ie. what is a popular movie? an active user? \n",
    "# Feel free to make this more or less restrictive as your model requires"
   ]
  },
  {
   "cell_type": "code",
   "execution_count": 15,
   "metadata": {
    "scrolled": false
   },
   "outputs": [
    {
     "data": {
      "text/plain": [
       "<AxesSubplot:title={'center':'Count of Rating Score'}>"
      ]
     },
     "execution_count": 15,
     "metadata": {},
     "output_type": "execute_result"
    },
    {
     "data": {
      "image/png": "[encoded data removed]",
      "text/plain": [
       "<Figure size 720x360 with 1 Axes>"
      ]
     },
     "metadata": {
      "needs_background": "light"
     },
     "output_type": "display_data"
    }
   ],
   "source": [
    "#look at ratings distribution\n",
    "\n",
    "ratings_df['rating'].value_counts().plot.bar(title=\"Count of Rating Score\",figsize=(10,5))\n",
    "\n",
    "#what can we say about the ratings scores?"
   ]
  },
  {
   "cell_type": "markdown",
   "metadata": {},
   "source": [
    "# Preprocessing"
   ]
  },
  {
   "cell_type": "code",
   "execution_count": 22,
   "metadata": {},
   "outputs": [
    {
     "name": "stdout",
     "output_type": "stream",
     "text": [
      "shape of original ratings data:  (100836, 4)\n",
      "shape of ratings data after dropping unpopular movies:  (100836, 4)\n"
     ]
    }
   ],
   "source": [
    "# Given some of our findings, let's try to optimize our dataset by filtering to only the data that we need\n",
    "\n",
    "#why do we do this? #this is the minimum number of ratings per movie\n",
    "\n",
    "popularity_thres = 1\n",
    "movie_rating_cnt_df = ratings_df[['rating','movieId']].groupby(['movieId']).count()\n",
    "popular_movies_df = movie_rating_cnt_df[movie_rating_cnt_df['rating']>=popularity_thres]\n",
    "\n",
    "\n",
    "filtered_pop_movies_df = ratings_df[ratings_df.movieId.isin(popular_movies_df.index.values)]\n",
    "print('shape of original ratings data: ', ratings_df.shape)\n",
    "print('shape of ratings data after dropping unpopular movies: ', filtered_pop_movies_df.shape)"
   ]
  },
  {
   "cell_type": "code",
   "execution_count": 23,
   "metadata": {},
   "outputs": [
    {
     "name": "stdout",
     "output_type": "stream",
     "text": [
      "shape of original ratings data:  (100836, 4)\n",
      "shape of ratings data after dropping both unpopular movies and inactive users:  (610, 4)\n"
     ]
    }
   ],
   "source": [
    "#filtering for active users\n",
    "ratings_thres = 1 \n",
    "#max_thres= 500\n",
    "\n",
    "active_users_cnt_df = ratings_df[['userId','movieId']].groupby(['userId']).count()\n",
    "active_users_df = active_users_cnt_df[active_users_cnt_df['movieId']>=ratings_thres]\n",
    "\n",
    "#active_users_df = active_users_cnt_df[(active_users_cnt_df['movieId']>=ratings_thres)& (active_users_cnt_df['movieId']< max_thres) ]\n",
    "\n",
    "#display(active_users_df) \n",
    "\n",
    "filtered_popular_active_df = filtered_pop_movies_df[filtered_pop_movies_df.index.isin(active_users_df.index.values)]\n",
    "print('shape of original ratings data: ', filtered_pop_movies_df.shape)\n",
    "print('shape of ratings data after dropping both unpopular movies and inactive users: ', filtered_popular_active_df.shape)"
   ]
  },
  {
   "cell_type": "code",
   "execution_count": 24,
   "metadata": {},
   "outputs": [
    {
     "data": {
      "text/html": [
       "<div>\n",
       "<style scoped>\n",
       "    .dataframe tbody tr th:only-of-type {\n",
       "        vertical-align: middle;\n",
       "    }\n",
       "\n",
       "    .dataframe tbody tr th {\n",
       "        vertical-align: top;\n",
       "    }\n",
       "\n",
       "    .dataframe thead th {\n",
       "        text-align: right;\n",
       "    }\n",
       "</style>\n",
       "<table border=\"1\" class=\"dataframe\">\n",
       "  <thead>\n",
       "    <tr style=\"text-align: right;\">\n",
       "      <th></th>\n",
       "      <th>userId</th>\n",
       "      <th>movieId</th>\n",
       "      <th>rating</th>\n",
       "      <th>timestamp</th>\n",
       "    </tr>\n",
       "  </thead>\n",
       "  <tbody>\n",
       "    <tr>\n",
       "      <th>1</th>\n",
       "      <td>1</td>\n",
       "      <td>3</td>\n",
       "      <td>4.0</td>\n",
       "      <td>964981247</td>\n",
       "    </tr>\n",
       "    <tr>\n",
       "      <th>2</th>\n",
       "      <td>1</td>\n",
       "      <td>6</td>\n",
       "      <td>4.0</td>\n",
       "      <td>964982224</td>\n",
       "    </tr>\n",
       "    <tr>\n",
       "      <th>3</th>\n",
       "      <td>1</td>\n",
       "      <td>47</td>\n",
       "      <td>5.0</td>\n",
       "      <td>964983815</td>\n",
       "    </tr>\n",
       "    <tr>\n",
       "      <th>4</th>\n",
       "      <td>1</td>\n",
       "      <td>50</td>\n",
       "      <td>5.0</td>\n",
       "      <td>964982931</td>\n",
       "    </tr>\n",
       "    <tr>\n",
       "      <th>5</th>\n",
       "      <td>1</td>\n",
       "      <td>70</td>\n",
       "      <td>3.0</td>\n",
       "      <td>964982400</td>\n",
       "    </tr>\n",
       "  </tbody>\n",
       "</table>\n",
       "</div>"
      ],
      "text/plain": [
       "   userId  movieId  rating  timestamp\n",
       "1       1        3     4.0  964981247\n",
       "2       1        6     4.0  964982224\n",
       "3       1       47     5.0  964983815\n",
       "4       1       50     5.0  964982931\n",
       "5       1       70     3.0  964982400"
      ]
     },
     "execution_count": 24,
     "metadata": {},
     "output_type": "execute_result"
    }
   ],
   "source": [
    "filtered_popular_active_df.head()"
   ]
  },
  {
   "cell_type": "code",
   "execution_count": 25,
   "metadata": {},
   "outputs": [
    {
     "data": {
      "text/html": [
       "<div>\n",
       "<style scoped>\n",
       "    .dataframe tbody tr th:only-of-type {\n",
       "        vertical-align: middle;\n",
       "    }\n",
       "\n",
       "    .dataframe tbody tr th {\n",
       "        vertical-align: top;\n",
       "    }\n",
       "\n",
       "    .dataframe thead th {\n",
       "        text-align: right;\n",
       "    }\n",
       "</style>\n",
       "<table border=\"1\" class=\"dataframe\">\n",
       "  <thead>\n",
       "    <tr style=\"text-align: right;\">\n",
       "      <th></th>\n",
       "      <th>userId</th>\n",
       "      <th>movieId</th>\n",
       "      <th>rating</th>\n",
       "      <th>timestamp</th>\n",
       "      <th>title</th>\n",
       "      <th>genres</th>\n",
       "    </tr>\n",
       "  </thead>\n",
       "  <tbody>\n",
       "    <tr>\n",
       "      <th>0</th>\n",
       "      <td>1</td>\n",
       "      <td>3</td>\n",
       "      <td>4.0</td>\n",
       "      <td>964981247</td>\n",
       "      <td>Grumpier Old Men (1995)</td>\n",
       "      <td>Comedy|Romance</td>\n",
       "    </tr>\n",
       "    <tr>\n",
       "      <th>1</th>\n",
       "      <td>1</td>\n",
       "      <td>6</td>\n",
       "      <td>4.0</td>\n",
       "      <td>964982224</td>\n",
       "      <td>Heat (1995)</td>\n",
       "      <td>Action|Crime|Thriller</td>\n",
       "    </tr>\n",
       "    <tr>\n",
       "      <th>2</th>\n",
       "      <td>1</td>\n",
       "      <td>47</td>\n",
       "      <td>5.0</td>\n",
       "      <td>964983815</td>\n",
       "      <td>Seven (a.k.a. Se7en) (1995)</td>\n",
       "      <td>Mystery|Thriller</td>\n",
       "    </tr>\n",
       "    <tr>\n",
       "      <th>3</th>\n",
       "      <td>1</td>\n",
       "      <td>50</td>\n",
       "      <td>5.0</td>\n",
       "      <td>964982931</td>\n",
       "      <td>Usual Suspects, The (1995)</td>\n",
       "      <td>Crime|Mystery|Thriller</td>\n",
       "    </tr>\n",
       "    <tr>\n",
       "      <th>4</th>\n",
       "      <td>1</td>\n",
       "      <td>70</td>\n",
       "      <td>3.0</td>\n",
       "      <td>964982400</td>\n",
       "      <td>From Dusk Till Dawn (1996)</td>\n",
       "      <td>Action|Comedy|Horror|Thriller</td>\n",
       "    </tr>\n",
       "  </tbody>\n",
       "</table>\n",
       "</div>"
      ],
      "text/plain": [
       "   userId  movieId  rating  timestamp                        title  \\\n",
       "0       1        3     4.0  964981247      Grumpier Old Men (1995)   \n",
       "1       1        6     4.0  964982224                  Heat (1995)   \n",
       "2       1       47     5.0  964983815  Seven (a.k.a. Se7en) (1995)   \n",
       "3       1       50     5.0  964982931   Usual Suspects, The (1995)   \n",
       "4       1       70     3.0  964982400   From Dusk Till Dawn (1996)   \n",
       "\n",
       "                          genres  \n",
       "0                 Comedy|Romance  \n",
       "1          Action|Crime|Thriller  \n",
       "2               Mystery|Thriller  \n",
       "3         Crime|Mystery|Thriller  \n",
       "4  Action|Comedy|Horror|Thriller  "
      ]
     },
     "execution_count": 25,
     "metadata": {},
     "output_type": "execute_result"
    }
   ],
   "source": [
    "# Let's transform this into a movie-user pivot table\n",
    "# Let's join them up first using a left join operation on movieId\n",
    "\n",
    "filtered_movie_ratings_merged_df = pd.merge(filtered_popular_active_df,movies_df, how='left', on=['movieId'])\n",
    "filtered_movie_ratings_merged_df.head()"
   ]
  },
  {
   "cell_type": "code",
   "execution_count": 26,
   "metadata": {},
   "outputs": [
    {
     "data": {
      "text/plain": [
       "(610, 6)"
      ]
     },
     "execution_count": 26,
     "metadata": {},
     "output_type": "execute_result"
    }
   ],
   "source": [
    "filtered_movie_ratings_merged_df.shape"
   ]
  },
  {
   "cell_type": "code",
   "execution_count": 21,
   "metadata": {
    "scrolled": true
   },
   "outputs": [
    {
     "data": {
      "text/html": [
       "<div>\n",
       "<style scoped>\n",
       "    .dataframe tbody tr th:only-of-type {\n",
       "        vertical-align: middle;\n",
       "    }\n",
       "\n",
       "    .dataframe tbody tr th {\n",
       "        vertical-align: top;\n",
       "    }\n",
       "\n",
       "    .dataframe thead th {\n",
       "        text-align: right;\n",
       "    }\n",
       "</style>\n",
       "<table border=\"1\" class=\"dataframe\">\n",
       "  <thead>\n",
       "    <tr style=\"text-align: right;\">\n",
       "      <th>userId</th>\n",
       "      <th>1</th>\n",
       "      <th>2</th>\n",
       "      <th>3</th>\n",
       "      <th>4</th>\n",
       "      <th>5</th>\n",
       "      <th>6</th>\n",
       "    </tr>\n",
       "    <tr>\n",
       "      <th>movieId</th>\n",
       "      <th></th>\n",
       "      <th></th>\n",
       "      <th></th>\n",
       "      <th></th>\n",
       "      <th></th>\n",
       "      <th></th>\n",
       "    </tr>\n",
       "  </thead>\n",
       "  <tbody>\n",
       "    <tr>\n",
       "      <th>1</th>\n",
       "      <td>0.0</td>\n",
       "      <td>0.0</td>\n",
       "      <td>0.0</td>\n",
       "      <td>0.0</td>\n",
       "      <td>4.0</td>\n",
       "      <td>0.0</td>\n",
       "    </tr>\n",
       "    <tr>\n",
       "      <th>2</th>\n",
       "      <td>0.0</td>\n",
       "      <td>0.0</td>\n",
       "      <td>0.0</td>\n",
       "      <td>0.0</td>\n",
       "      <td>0.0</td>\n",
       "      <td>4.0</td>\n",
       "    </tr>\n",
       "    <tr>\n",
       "      <th>3</th>\n",
       "      <td>4.0</td>\n",
       "      <td>0.0</td>\n",
       "      <td>0.0</td>\n",
       "      <td>0.0</td>\n",
       "      <td>0.0</td>\n",
       "      <td>5.0</td>\n",
       "    </tr>\n",
       "    <tr>\n",
       "      <th>4</th>\n",
       "      <td>0.0</td>\n",
       "      <td>0.0</td>\n",
       "      <td>0.0</td>\n",
       "      <td>0.0</td>\n",
       "      <td>0.0</td>\n",
       "      <td>3.0</td>\n",
       "    </tr>\n",
       "    <tr>\n",
       "      <th>5</th>\n",
       "      <td>0.0</td>\n",
       "      <td>0.0</td>\n",
       "      <td>0.0</td>\n",
       "      <td>0.0</td>\n",
       "      <td>0.0</td>\n",
       "      <td>5.0</td>\n",
       "    </tr>\n",
       "  </tbody>\n",
       "</table>\n",
       "</div>"
      ],
      "text/plain": [
       "userId     1    2    3    4    5    6\n",
       "movieId                              \n",
       "1        0.0  0.0  0.0  0.0  4.0  0.0\n",
       "2        0.0  0.0  0.0  0.0  0.0  4.0\n",
       "3        4.0  0.0  0.0  0.0  0.0  5.0\n",
       "4        0.0  0.0  0.0  0.0  0.0  3.0\n",
       "5        0.0  0.0  0.0  0.0  0.0  5.0"
      ]
     },
     "execution_count": 21,
     "metadata": {},
     "output_type": "execute_result"
    }
   ],
   "source": [
    "# Now let's pivot the dataframe such that it will have movieId as the index, and userId as columns\n",
    "filtered_movie_ratings_df = pd.pivot(filtered_movie_ratings_merged_df,index='movieId', columns='userId', values='rating').fillna(0)\n",
    "filtered_movie_ratings_df.head()\n"
   ]
  },
  {
   "cell_type": "code",
   "execution_count": 28,
   "metadata": {},
   "outputs": [
    {
     "data": {
      "text/plain": [
       "<610x4 sparse matrix of type '<class 'numpy.float64'>'\n",
       "\twith 2440 stored elements in Compressed Sparse Row format>"
      ]
     },
     "execution_count": 28,
     "metadata": {},
     "output_type": "execute_result"
    }
   ],
   "source": [
    "#Matrices that contain mostly zero values are called sparse,\n",
    "#distinct from matrices where most of the values are non-zero, called dense.\n",
    "\n",
    "#It is computationally expensive to represent and work with sparse matrices as though they are dense, \n",
    "#and much improvement in performance can be achieved by using representations and operations \n",
    "#that specifically handle the matrix sparsity.\n",
    "\n",
    "#Instead of storing zeroes with non-zero elements, we only store non-zero elements. \n",
    "#This means storing non-zero elements with triples- (Row, Column, value).\n",
    "\n",
    "# Now given that this is a sparse matrix, we will use scipy which has a matrix class\n",
    "# that is optimized to handle sparse matrix objects\n",
    "\n",
    "#The function csr_matrix() is used to create a sparse matrix of compressed sparse row format \n",
    "#whereas csc_matrix() is used to create a sparse matrix of compressed sparse column format.\n",
    "\n",
    "\n",
    "\n",
    "movie_ratings_mat = csr_matrix(filtered_popular_active_df.values)\n",
    "movie_ratings_mat\n",
    "\n",
    "# this will be used as input to the model"
   ]
  },
  {
   "cell_type": "markdown",
   "metadata": {},
   "source": [
    "# Memory-based Approach\n",
    "## Using KNN to estimate distance\n",
    "\n",
    "Here we will use KNN, which is an unsupervised learning model, in which a data point is classified by a majority vote of its neighbors, with the data point being assigned to the class most common amongst its k-nearest neighbors, as measured by a distance function (these can be of any kind depending upon your data being continuous or categorical). If k = 1, then the data point is simply assigned to the class of its nearest neighbor—i.e., itself."
   ]
  },
  {
   "cell_type": "code",
   "execution_count": 29,
   "metadata": {},
   "outputs": [
    {
     "data": {
      "text/html": [
       "<style>#sk-container-id-1 {\n",
       "  /* Definition of color scheme common for light and dark mode */\n",
       "  --sklearn-color-text: black;\n",
       "  --sklearn-color-line: gray;\n",
       "  /* Definition of color scheme for unfitted estimators */\n",
       "  --sklearn-color-unfitted-level-0: #fff5e6;\n",
       "  --sklearn-color-unfitted-level-1: #f6e4d2;\n",
       "  --sklearn-color-unfitted-level-2: #ffe0b3;\n",
       "  --sklearn-color-unfitted-level-3: chocolate;\n",
       "  /* Definition of color scheme for fitted estimators */\n",
       "  --sklearn-color-fitted-level-0: #f0f8ff;\n",
       "  --sklearn-color-fitted-level-1: #d4ebff;\n",
       "  --sklearn-color-fitted-level-2: #b3dbfd;\n",
       "  --sklearn-color-fitted-level-3: cornflowerblue;\n",
       "\n",
       "  /* Specific color for light theme */\n",
       "  --sklearn-color-text-on-default-background: var(--sg-text-color, var(--theme-code-foreground, var(--jp-content-font-color1, black)));\n",
       "  --sklearn-color-background: var(--sg-background-color, var(--theme-background, var(--jp-layout-color0, white)));\n",
       "  --sklearn-color-border-box: var(--sg-text-color, var(--theme-code-foreground, var(--jp-content-font-color1, black)));\n",
       "  --sklearn-color-icon: #696969;\n",
       "\n",
       "  @media (prefers-color-scheme: dark) {\n",
       "    /* Redefinition of color scheme for dark theme */\n",
       "    --sklearn-color-text-on-default-background: var(--sg-text-color, var(--theme-code-foreground, var(--jp-content-font-color1, white)));\n",
       "    --sklearn-color-background: var(--sg-background-color, var(--theme-background, var(--jp-layout-color0, #111)));\n",
       "    --sklearn-color-border-box: var(--sg-text-color, var(--theme-code-foreground, var(--jp-content-font-color1, white)));\n",
       "    --sklearn-color-icon: #878787;\n",
       "  }\n",
       "}\n",
       "\n",
       "#sk-container-id-1 {\n",
       "  color: var(--sklearn-color-text);\n",
       "}\n",
       "\n",
       "#sk-container-id-1 pre {\n",
       "  padding: 0;\n",
       "}\n",
       "\n",
       "#sk-container-id-1 input.sk-hidden--visually {\n",
       "  border: 0;\n",
       "  clip: rect(1px 1px 1px 1px);\n",
       "  clip: rect(1px, 1px, 1px, 1px);\n",
       "  height: 1px;\n",
       "  margin: -1px;\n",
       "  overflow: hidden;\n",
       "  padding: 0;\n",
       "  position: absolute;\n",
       "  width: 1px;\n",
       "}\n",
       "\n",
       "#sk-container-id-1 div.sk-dashed-wrapped {\n",
       "  border: 1px dashed var(--sklearn-color-line);\n",
       "  margin: 0 0.4em 0.5em 0.4em;\n",
       "  box-sizing: border-box;\n",
       "  padding-bottom: 0.4em;\n",
       "  background-color: var(--sklearn-color-background);\n",
       "}\n",
       "\n",
       "#sk-container-id-1 div.sk-container {\n",
       "  /* jupyter's `normalize.less` sets `[hidden] { display: none; }`\n",
       "     but bootstrap.min.css set `[hidden] { display: none !important; }`\n",
       "     so we also need the `!important` here to be able to override the\n",
       "     default hidden behavior on the sphinx rendered scikit-learn.org.\n",
       "     See: https://github.com/scikit-learn/scikit-learn/issues/21755 */\n",
       "  display: inline-block !important;\n",
       "  position: relative;\n",
       "}\n",
       "\n",
       "#sk-container-id-1 div.sk-text-repr-fallback {\n",
       "  display: none;\n",
       "}\n",
       "\n",
       "div.sk-parallel-item,\n",
       "div.sk-serial,\n",
       "div.sk-item {\n",
       "  /* draw centered vertical line to link estimators */\n",
       "  background-image: linear-gradient(var(--sklearn-color-text-on-default-background), var(--sklearn-color-text-on-default-background));\n",
       "  background-size: 2px 100%;\n",
       "  background-repeat: no-repeat;\n",
       "  background-position: center center;\n",
       "}\n",
       "\n",
       "/* Parallel-specific style estimator block */\n",
       "\n",
       "#sk-container-id-1 div.sk-parallel-item::after {\n",
       "  content: \"\";\n",
       "  width: 100%;\n",
       "  border-bottom: 2px solid var(--sklearn-color-text-on-default-background);\n",
       "  flex-grow: 1;\n",
       "}\n",
       "\n",
       "#sk-container-id-1 div.sk-parallel {\n",
       "  display: flex;\n",
       "  align-items: stretch;\n",
       "  justify-content: center;\n",
       "  background-color: var(--sklearn-color-background);\n",
       "  position: relative;\n",
       "}\n",
       "\n",
       "#sk-container-id-1 div.sk-parallel-item {\n",
       "  display: flex;\n",
       "  flex-direction: column;\n",
       "}\n",
       "\n",
       "#sk-container-id-1 div.sk-parallel-item:first-child::after {\n",
       "  align-self: flex-end;\n",
       "  width: 50%;\n",
       "}\n",
       "\n",
       "#sk-container-id-1 div.sk-parallel-item:last-child::after {\n",
       "  align-self: flex-start;\n",
       "  width: 50%;\n",
       "}\n",
       "\n",
       "#sk-container-id-1 div.sk-parallel-item:only-child::after {\n",
       "  width: 0;\n",
       "}\n",
       "\n",
       "/* Serial-specific style estimator block */\n",
       "\n",
       "#sk-container-id-1 div.sk-serial {\n",
       "  display: flex;\n",
       "  flex-direction: column;\n",
       "  align-items: center;\n",
       "  background-color: var(--sklearn-color-background);\n",
       "  padding-right: 1em;\n",
       "  padding-left: 1em;\n",
       "}\n",
       "\n",
       "\n",
       "/* Toggleable style: style used for estimator/Pipeline/ColumnTransformer box that is\n",
       "clickable and can be expanded/collapsed.\n",
       "- Pipeline and ColumnTransformer use this feature and define the default style\n",
       "- Estimators will overwrite some part of the style using the `sk-estimator` class\n",
       "*/\n",
       "\n",
       "/* Pipeline and ColumnTransformer style (default) */\n",
       "\n",
       "#sk-container-id-1 div.sk-toggleable {\n",
       "  /* Default theme specific background. It is overwritten whether we have a\n",
       "  specific estimator or a Pipeline/ColumnTransformer */\n",
       "  background-color: var(--sklearn-color-background);\n",
       "}\n",
       "\n",
       "/* Toggleable label */\n",
       "#sk-container-id-1 label.sk-toggleable__label {\n",
       "  cursor: pointer;\n",
       "  display: block;\n",
       "  width: 100%;\n",
       "  margin-bottom: 0;\n",
       "  padding: 0.5em;\n",
       "  box-sizing: border-box;\n",
       "  text-align: center;\n",
       "}\n",
       "\n",
       "#sk-container-id-1 label.sk-toggleable__label-arrow:before {\n",
       "  /* Arrow on the left of the label */\n",
       "  content: \"▸\";\n",
       "  float: left;\n",
       "  margin-right: 0.25em;\n",
       "  color: var(--sklearn-color-icon);\n",
       "}\n",
       "\n",
       "#sk-container-id-1 label.sk-toggleable__label-arrow:hover:before {\n",
       "  color: var(--sklearn-color-text);\n",
       "}\n",
       "\n",
       "/* Toggleable content - dropdown */\n",
       "\n",
       "#sk-container-id-1 div.sk-toggleable__content {\n",
       "  max-height: 0;\n",
       "  max-width: 0;\n",
       "  overflow: hidden;\n",
       "  text-align: left;\n",
       "  /* unfitted */\n",
       "  background-color: var(--sklearn-color-unfitted-level-0);\n",
       "}\n",
       "\n",
       "#sk-container-id-1 div.sk-toggleable__content.fitted {\n",
       "  /* fitted */\n",
       "  background-color: var(--sklearn-color-fitted-level-0);\n",
       "}\n",
       "\n",
       "#sk-container-id-1 div.sk-toggleable__content pre {\n",
       "  margin: 0.2em;\n",
       "  border-radius: 0.25em;\n",
       "  color: var(--sklearn-color-text);\n",
       "  /* unfitted */\n",
       "  background-color: var(--sklearn-color-unfitted-level-0);\n",
       "}\n",
       "\n",
       "#sk-container-id-1 div.sk-toggleable__content.fitted pre {\n",
       "  /* unfitted */\n",
       "  background-color: var(--sklearn-color-fitted-level-0);\n",
       "}\n",
       "\n",
       "#sk-container-id-1 input.sk-toggleable__control:checked~div.sk-toggleable__content {\n",
       "  /* Expand drop-down */\n",
       "  max-height: 200px;\n",
       "  max-width: 100%;\n",
       "  overflow: auto;\n",
       "}\n",
       "\n",
       "#sk-container-id-1 input.sk-toggleable__control:checked~label.sk-toggleable__label-arrow:before {\n",
       "  content: \"▾\";\n",
       "}\n",
       "\n",
       "/* Pipeline/ColumnTransformer-specific style */\n",
       "\n",
       "#sk-container-id-1 div.sk-label input.sk-toggleable__control:checked~label.sk-toggleable__label {\n",
       "  color: var(--sklearn-color-text);\n",
       "  background-color: var(--sklearn-color-unfitted-level-2);\n",
       "}\n",
       "\n",
       "#sk-container-id-1 div.sk-label.fitted input.sk-toggleable__control:checked~label.sk-toggleable__label {\n",
       "  background-color: var(--sklearn-color-fitted-level-2);\n",
       "}\n",
       "\n",
       "/* Estimator-specific style */\n",
       "\n",
       "/* Colorize estimator box */\n",
       "#sk-container-id-1 div.sk-estimator input.sk-toggleable__control:checked~label.sk-toggleable__label {\n",
       "  /* unfitted */\n",
       "  background-color: var(--sklearn-color-unfitted-level-2);\n",
       "}\n",
       "\n",
       "#sk-container-id-1 div.sk-estimator.fitted input.sk-toggleable__control:checked~label.sk-toggleable__label {\n",
       "  /* fitted */\n",
       "  background-color: var(--sklearn-color-fitted-level-2);\n",
       "}\n",
       "\n",
       "#sk-container-id-1 div.sk-label label.sk-toggleable__label,\n",
       "#sk-container-id-1 div.sk-label label {\n",
       "  /* The background is the default theme color */\n",
       "  color: var(--sklearn-color-text-on-default-background);\n",
       "}\n",
       "\n",
       "/* On hover, darken the color of the background */\n",
       "#sk-container-id-1 div.sk-label:hover label.sk-toggleable__label {\n",
       "  color: var(--sklearn-color-text);\n",
       "  background-color: var(--sklearn-color-unfitted-level-2);\n",
       "}\n",
       "\n",
       "/* Label box, darken color on hover, fitted */\n",
       "#sk-container-id-1 div.sk-label.fitted:hover label.sk-toggleable__label.fitted {\n",
       "  color: var(--sklearn-color-text);\n",
       "  background-color: var(--sklearn-color-fitted-level-2);\n",
       "}\n",
       "\n",
       "/* Estimator label */\n",
       "\n",
       "#sk-container-id-1 div.sk-label label {\n",
       "  font-family: monospace;\n",
       "  font-weight: bold;\n",
       "  display: inline-block;\n",
       "  line-height: 1.2em;\n",
       "}\n",
       "\n",
       "#sk-container-id-1 div.sk-label-container {\n",
       "  text-align: center;\n",
       "}\n",
       "\n",
       "/* Estimator-specific */\n",
       "#sk-container-id-1 div.sk-estimator {\n",
       "  font-family: monospace;\n",
       "  border: 1px dotted var(--sklearn-color-border-box);\n",
       "  border-radius: 0.25em;\n",
       "  box-sizing: border-box;\n",
       "  margin-bottom: 0.5em;\n",
       "  /* unfitted */\n",
       "  background-color: var(--sklearn-color-unfitted-level-0);\n",
       "}\n",
       "\n",
       "#sk-container-id-1 div.sk-estimator.fitted {\n",
       "  /* fitted */\n",
       "  background-color: var(--sklearn-color-fitted-level-0);\n",
       "}\n",
       "\n",
       "/* on hover */\n",
       "#sk-container-id-1 div.sk-estimator:hover {\n",
       "  /* unfitted */\n",
       "  background-color: var(--sklearn-color-unfitted-level-2);\n",
       "}\n",
       "\n",
       "#sk-container-id-1 div.sk-estimator.fitted:hover {\n",
       "  /* fitted */\n",
       "  background-color: var(--sklearn-color-fitted-level-2);\n",
       "}\n",
       "\n",
       "/* Specification for estimator info (e.g. \"i\" and \"?\") */\n",
       "\n",
       "/* Common style for \"i\" and \"?\" */\n",
       "\n",
       ".sk-estimator-doc-link,\n",
       "a:link.sk-estimator-doc-link,\n",
       "a:visited.sk-estimator-doc-link {\n",
       "  float: right;\n",
       "  font-size: smaller;\n",
       "  line-height: 1em;\n",
       "  font-family: monospace;\n",
       "  background-color: var(--sklearn-color-background);\n",
       "  border-radius: 1em;\n",
       "  height: 1em;\n",
       "  width: 1em;\n",
       "  text-decoration: none !important;\n",
       "  margin-left: 1ex;\n",
       "  /* unfitted */\n",
       "  border: var(--sklearn-color-unfitted-level-1) 1pt solid;\n",
       "  color: var(--sklearn-color-unfitted-level-1);\n",
       "}\n",
       "\n",
       ".sk-estimator-doc-link.fitted,\n",
       "a:link.sk-estimator-doc-link.fitted,\n",
       "a:visited.sk-estimator-doc-link.fitted {\n",
       "  /* fitted */\n",
       "  border: var(--sklearn-color-fitted-level-1) 1pt solid;\n",
       "  color: var(--sklearn-color-fitted-level-1);\n",
       "}\n",
       "\n",
       "/* On hover */\n",
       "div.sk-estimator:hover .sk-estimator-doc-link:hover,\n",
       ".sk-estimator-doc-link:hover,\n",
       "div.sk-label-container:hover .sk-estimator-doc-link:hover,\n",
       ".sk-estimator-doc-link:hover {\n",
       "  /* unfitted */\n",
       "  background-color: var(--sklearn-color-unfitted-level-3);\n",
       "  color: var(--sklearn-color-background);\n",
       "  text-decoration: none;\n",
       "}\n",
       "\n",
       "div.sk-estimator.fitted:hover .sk-estimator-doc-link.fitted:hover,\n",
       ".sk-estimator-doc-link.fitted:hover,\n",
       "div.sk-label-container:hover .sk-estimator-doc-link.fitted:hover,\n",
       ".sk-estimator-doc-link.fitted:hover {\n",
       "  /* fitted */\n",
       "  background-color: var(--sklearn-color-fitted-level-3);\n",
       "  color: var(--sklearn-color-background);\n",
       "  text-decoration: none;\n",
       "}\n",
       "\n",
       "/* Span, style for the box shown on hovering the info icon */\n",
       ".sk-estimator-doc-link span {\n",
       "  display: none;\n",
       "  z-index: 9999;\n",
       "  position: relative;\n",
       "  font-weight: normal;\n",
       "  right: .2ex;\n",
       "  padding: .5ex;\n",
       "  margin: .5ex;\n",
       "  width: min-content;\n",
       "  min-width: 20ex;\n",
       "  max-width: 50ex;\n",
       "  color: var(--sklearn-color-text);\n",
       "  box-shadow: 2pt 2pt 4pt #999;\n",
       "  /* unfitted */\n",
       "  background: var(--sklearn-color-unfitted-level-0);\n",
       "  border: .5pt solid var(--sklearn-color-unfitted-level-3);\n",
       "}\n",
       "\n",
       ".sk-estimator-doc-link.fitted span {\n",
       "  /* fitted */\n",
       "  background: var(--sklearn-color-fitted-level-0);\n",
       "  border: var(--sklearn-color-fitted-level-3);\n",
       "}\n",
       "\n",
       ".sk-estimator-doc-link:hover span {\n",
       "  display: block;\n",
       "}\n",
       "\n",
       "/* \"?\"-specific style due to the `<a>` HTML tag */\n",
       "\n",
       "#sk-container-id-1 a.estimator_doc_link {\n",
       "  float: right;\n",
       "  font-size: 1rem;\n",
       "  line-height: 1em;\n",
       "  font-family: monospace;\n",
       "  background-color: var(--sklearn-color-background);\n",
       "  border-radius: 1rem;\n",
       "  height: 1rem;\n",
       "  width: 1rem;\n",
       "  text-decoration: none;\n",
       "  /* unfitted */\n",
       "  color: var(--sklearn-color-unfitted-level-1);\n",
       "  border: var(--sklearn-color-unfitted-level-1) 1pt solid;\n",
       "}\n",
       "\n",
       "#sk-container-id-1 a.estimator_doc_link.fitted {\n",
       "  /* fitted */\n",
       "  border: var(--sklearn-color-fitted-level-1) 1pt solid;\n",
       "  color: var(--sklearn-color-fitted-level-1);\n",
       "}\n",
       "\n",
       "/* On hover */\n",
       "#sk-container-id-1 a.estimator_doc_link:hover {\n",
       "  /* unfitted */\n",
       "  background-color: var(--sklearn-color-unfitted-level-3);\n",
       "  color: var(--sklearn-color-background);\n",
       "  text-decoration: none;\n",
       "}\n",
       "\n",
       "#sk-container-id-1 a.estimator_doc_link.fitted:hover {\n",
       "  /* fitted */\n",
       "  background-color: var(--sklearn-color-fitted-level-3);\n",
       "}\n",
       "</style><div id=\"sk-container-id-1\" class=\"sk-top-container\"><div class=\"sk-text-repr-fallback\"><pre>NearestNeighbors(algorithm=&#x27;brute&#x27;, metric=&#x27;cosine&#x27;, n_jobs=-1, n_neighbors=20)</pre><b>In a Jupyter environment, please rerun this cell to show the HTML representation or trust the notebook. <br />On GitHub, the HTML representation is unable to render, please try loading this page with nbviewer.org.</b></div><div class=\"sk-container\" hidden><div class=\"sk-item\"><div class=\"sk-estimator fitted sk-toggleable\"><input class=\"sk-toggleable__control sk-hidden--visually\" id=\"sk-estimator-id-1\" type=\"checkbox\" checked><label for=\"sk-estimator-id-1\" class=\"sk-toggleable__label fitted sk-toggleable__label-arrow fitted\">&nbsp;&nbsp;NearestNeighbors<a class=\"sk-estimator-doc-link fitted\" rel=\"noreferrer\" target=\"_blank\" href=\"https://scikit-learn.org/1.4/modules/generated/sklearn.neighbors.NearestNeighbors.html\">?<span>Documentation for NearestNeighbors</span></a><span class=\"sk-estimator-doc-link fitted\">i<span>Fitted</span></span></label><div class=\"sk-toggleable__content fitted\"><pre>NearestNeighbors(algorithm=&#x27;brute&#x27;, metric=&#x27;cosine&#x27;, n_jobs=-1, n_neighbors=20)</pre></div> </div></div></div></div>"
      ],
      "text/plain": [
       "NearestNeighbors(algorithm='brute', metric='cosine', n_jobs=-1, n_neighbors=20)"
      ]
     },
     "execution_count": 29,
     "metadata": {},
     "output_type": "execute_result"
    }
   ],
   "source": [
    "# Metric is the distance algorithm to be used. You can find more choices here: \n",
    "# https://scikit-learn.org/stable/modules/generated/sklearn.neighbors.DistanceMetric.html#sklearn.neighbors.DistanceMetric\n",
    "\n",
    "# algorithm is the type of tree search used by the model\n",
    "# neighbors it the amount of neighbors identified\n",
    "model_knn = NearestNeighbors(metric='cosine', algorithm='brute', n_neighbors=20, n_jobs=-1)\n",
    "\n",
    "# fit\n",
    "model_knn.fit(movie_ratings_mat)\n"
   ]
  },
  {
   "cell_type": "markdown",
   "metadata": {},
   "source": [
    "KNN does not make any assumptions on the underlying data distribution but it relies on item feature similarity. When KNN makes inference about a movie, KNN will calculate the “distance” between the target movie and every other movie in its database, then it ranks its distances and returns the top K nearest neighbor movies as the most similar movie recommendations.\n",
    "\n",
    "![alt text](https://miro.medium.com/max/975/1*OyYyr9qY-w8RkaRh2TKo0w.png)"
   ]
  },
  {
   "cell_type": "code",
   "execution_count": 32,
   "metadata": {},
   "outputs": [
    {
     "name": "stdout",
     "output_type": "stream",
     "text": [
      "You have input movie: Toy\n"
     ]
    },
    {
     "data": {
      "text/html": [
       "<div>\n",
       "<style scoped>\n",
       "    .dataframe tbody tr th:only-of-type {\n",
       "        vertical-align: middle;\n",
       "    }\n",
       "\n",
       "    .dataframe tbody tr th {\n",
       "        vertical-align: top;\n",
       "    }\n",
       "\n",
       "    .dataframe thead th {\n",
       "        text-align: right;\n",
       "    }\n",
       "</style>\n",
       "<table border=\"1\" class=\"dataframe\">\n",
       "  <thead>\n",
       "    <tr style=\"text-align: right;\">\n",
       "      <th></th>\n",
       "      <th>userId</th>\n",
       "      <th>movieId</th>\n",
       "      <th>rating</th>\n",
       "      <th>timestamp</th>\n",
       "      <th>title</th>\n",
       "      <th>genres</th>\n",
       "    </tr>\n",
       "  </thead>\n",
       "  <tbody>\n",
       "    <tr>\n",
       "      <th>142</th>\n",
       "      <td>1</td>\n",
       "      <td>2253</td>\n",
       "      <td>2.0</td>\n",
       "      <td>964981775</td>\n",
       "      <td>Toys (1992)</td>\n",
       "      <td>Comedy|Fantasy</td>\n",
       "    </tr>\n",
       "    <tr>\n",
       "      <th>515</th>\n",
       "      <td>5</td>\n",
       "      <td>1</td>\n",
       "      <td>4.0</td>\n",
       "      <td>847434962</td>\n",
       "      <td>Toy Story (1995)</td>\n",
       "      <td>Adventure|Animation|Children|Comedy|Fantasy</td>\n",
       "    </tr>\n",
       "  </tbody>\n",
       "</table>\n",
       "</div>"
      ],
      "text/plain": [
       "     userId  movieId  rating  timestamp             title  \\\n",
       "142       1     2253     2.0  964981775       Toys (1992)   \n",
       "515       5        1     4.0  847434962  Toy Story (1995)   \n",
       "\n",
       "                                          genres  \n",
       "142                               Comedy|Fantasy  \n",
       "515  Adventure|Animation|Children|Comedy|Fantasy  "
      ]
     },
     "execution_count": 32,
     "metadata": {},
     "output_type": "execute_result"
    }
   ],
   "source": [
    "# Let's try it out\n",
    "fav_movie = \"Toy\"\n",
    "print('You have input movie:', fav_movie)\n",
    "\n",
    "# find movies that \"match\" title\n",
    "movie_matches_df = filtered_movie_ratings_merged_df[filtered_movie_ratings_merged_df['title'].str.contains(fav_movie)]  \n",
    "movie_matches_df"
   ]
  },
  {
   "cell_type": "markdown",
   "metadata": {},
   "source": [
    "# Let's Recommend!"
   ]
  },
  {
   "cell_type": "code",
   "execution_count": 33,
   "metadata": {
    "scrolled": true
   },
   "outputs": [
    {
     "name": "stdout",
     "output_type": "stream",
     "text": [
      "Let's start making recommendations!...\n"
     ]
    },
    {
     "data": {
      "text/html": [
       "<div>\n",
       "<style scoped>\n",
       "    .dataframe tbody tr th:only-of-type {\n",
       "        vertical-align: middle;\n",
       "    }\n",
       "\n",
       "    .dataframe tbody tr th {\n",
       "        vertical-align: top;\n",
       "    }\n",
       "\n",
       "    .dataframe thead th {\n",
       "        text-align: right;\n",
       "    }\n",
       "</style>\n",
       "<table border=\"1\" class=\"dataframe\">\n",
       "  <thead>\n",
       "    <tr style=\"text-align: right;\">\n",
       "      <th></th>\n",
       "      <th>Title</th>\n",
       "      <th>Distance</th>\n",
       "    </tr>\n",
       "  </thead>\n",
       "  <tbody>\n",
       "    <tr>\n",
       "      <th>10</th>\n",
       "      <td>Toys (1992)</td>\n",
       "      <td>1.110223e-16</td>\n",
       "    </tr>\n",
       "    <tr>\n",
       "      <th>7</th>\n",
       "      <td>Few Good Men, A (1992)</td>\n",
       "      <td>2.220446e-16</td>\n",
       "    </tr>\n",
       "    <tr>\n",
       "      <th>8</th>\n",
       "      <td>Piranha (1978)</td>\n",
       "      <td>2.220446e-16</td>\n",
       "    </tr>\n",
       "    <tr>\n",
       "      <th>9</th>\n",
       "      <td>Rush Hour (1998)</td>\n",
       "      <td>2.220446e-16</td>\n",
       "    </tr>\n",
       "    <tr>\n",
       "      <th>6</th>\n",
       "      <td>Strangers on a Train (1951)</td>\n",
       "      <td>3.330669e-16</td>\n",
       "    </tr>\n",
       "    <tr>\n",
       "      <th>5</th>\n",
       "      <td>Edward Scissorhands (1990)</td>\n",
       "      <td>8.881784e-16</td>\n",
       "    </tr>\n",
       "    <tr>\n",
       "      <th>4</th>\n",
       "      <td>Saboteur (1942)</td>\n",
       "      <td>1.443290e-15</td>\n",
       "    </tr>\n",
       "    <tr>\n",
       "      <th>3</th>\n",
       "      <td>Willow (1988)</td>\n",
       "      <td>1.998401e-15</td>\n",
       "    </tr>\n",
       "    <tr>\n",
       "      <th>2</th>\n",
       "      <td>Life Is Beautiful (La Vita è bella) (1997)</td>\n",
       "      <td>2.886580e-15</td>\n",
       "    </tr>\n",
       "    <tr>\n",
       "      <th>1</th>\n",
       "      <td>Pecker (1998)</td>\n",
       "      <td>3.108624e-15</td>\n",
       "    </tr>\n",
       "  </tbody>\n",
       "</table>\n",
       "</div>"
      ],
      "text/plain": [
       "                                         Title      Distance\n",
       "10                                 Toys (1992)  1.110223e-16\n",
       "7                       Few Good Men, A (1992)  2.220446e-16\n",
       "8                               Piranha (1978)  2.220446e-16\n",
       "9                             Rush Hour (1998)  2.220446e-16\n",
       "6                  Strangers on a Train (1951)  3.330669e-16\n",
       "5                   Edward Scissorhands (1990)  8.881784e-16\n",
       "4                              Saboteur (1942)  1.443290e-15\n",
       "3                                Willow (1988)  1.998401e-15\n",
       "2   Life Is Beautiful (La Vita è bella) (1997)  2.886580e-15\n",
       "1                                Pecker (1998)  3.108624e-15"
      ]
     },
     "metadata": {},
     "output_type": "display_data"
    }
   ],
   "source": [
    "print(\"Let's start making recommendations!...\")\n",
    "\n",
    "if(movie_matches_df is  None):\n",
    "    print(\"No Matching movies :(\")\n",
    "else:\n",
    "    # Indicate the top recommendations we want to get (how many neighbors should we find?)\n",
    "    top_recommendations = 10\n",
    "\n",
    "    movie_idx= movie_matches_df.iloc[0]['movieId'] # select the first movie in the list, get the movie Id\n",
    "    \n",
    "    # get the dataframe index from the movieId\n",
    "    movie_idx = filtered_movie_ratings_merged_df[filtered_movie_ratings_merged_df['movieId'] == movie_idx].index[0]\n",
    "\n",
    "    # model will return a list of distances and indices\n",
    "    distances , indices = model_knn.kneighbors(movie_ratings_mat[movie_idx],n_neighbors=top_recommendations+1)    \n",
    "\n",
    "    # transform the result into a list\n",
    "    rec_movie_indices = sorted(list(zip(indices.squeeze().tolist(),distances.squeeze().tolist())),key=lambda x: x[1])[:0:-1]\n",
    "    recommend_frame = [] #let's create an empty list\n",
    " \n",
    "    # we will iterate thru the results and add them to the list\n",
    "    for val in rec_movie_indices:\n",
    "        \n",
    "        # we get the movie id\n",
    "        movie_idx = filtered_movie_ratings_merged_df.iloc[val[0]]['movieId']\n",
    "        # convert into an index, we will this use to get the movie title\n",
    "        idx = filtered_movie_ratings_merged_df[filtered_movie_ratings_merged_df['movieId'] == movie_idx].index\n",
    "        # take the movie title together with the computed \"distance\". This distance is how far the movies are from the 'target' movie\n",
    "        recommend_frame.append({'Title':filtered_movie_ratings_merged_df.iloc[idx]['title'].values[0],'Distance':val[1]})\n",
    "\n",
    "    # place resulting list inside a dataframe\n",
    "    df = pd.DataFrame(recommend_frame,index=range(1,top_recommendations+1))\n",
    "    display(df.sort_values(\"Distance\")) #sort by distance to get the top 10\n"
   ]
  },
  {
   "cell_type": "code",
   "execution_count": 26,
   "metadata": {},
   "outputs": [
    {
     "name": "stdout",
     "output_type": "stream",
     "text": [
      "Computing the msd similarity matrix...\n",
      "Done computing similarity matrix.\n",
      "Computing the msd similarity matrix...\n",
      "Done computing similarity matrix.\n",
      "Computing the msd similarity matrix...\n",
      "Done computing similarity matrix.\n",
      "Computing the msd similarity matrix...\n",
      "Done computing similarity matrix.\n",
      "Computing the msd similarity matrix...\n",
      "Done computing similarity matrix.\n",
      "Evaluating RMSE of algorithm KNNBasic on 5 split(s).\n",
      "\n",
      "                  Fold 1  Fold 2  Fold 3  Fold 4  Fold 5  Mean    Std     \n",
      "RMSE (testset)    1.2264  1.3016  1.3736  1.4829  1.3169  1.3403  0.0854  \n",
      "Fit time          0.00    0.00    0.00    0.00    0.00    0.00    0.00    \n",
      "Test time         0.00    0.00    0.00    0.00    0.00    0.00    0.00    \n"
     ]
    },
    {
     "data": {
      "text/plain": [
       "{'test_rmse': array([1.22643504, 1.30158086, 1.37358361, 1.48294971, 1.31692353]),\n",
       " 'fit_time': (0.0038628578186035156,\n",
       "  0.00014901161193847656,\n",
       "  0.00010919570922851562,\n",
       "  0.00026607513427734375,\n",
       "  0.00023221969604492188),\n",
       " 'test_time': (0.0007028579711914062,\n",
       "  0.0005450248718261719,\n",
       "  0.0005960464477539062,\n",
       "  0.0006730556488037109,\n",
       "  0.0005748271942138672)}"
      ]
     },
     "execution_count": 26,
     "metadata": {},
     "output_type": "execute_result"
    }
   ],
   "source": [
    "# Let's use surprise library to get a measure of our knn model's RMSE metric\n",
    "# The Reader class is used to parse a file containing ratings.\n",
    "# A reader is still needed but only the rating_scale param is required.\n",
    "\n",
    "reader = Reader(rating_scale=(1, 5))\n",
    "\n",
    "# The columns must correspond to user id, item id and ratings (in that order).\n",
    "data = Dataset.load_from_df(filtered_movie_ratings_merged_df[['userId', 'movieId', 'rating']], reader)\n",
    "\n",
    "# We'll train a knn model in surprise using our same data set\n",
    "knnbasic = KNNBasic()\n",
    "\n",
    "# Run 5-fold cross-validation and print results.\n",
    "knn_results = cross_validate(knnbasic, data, measures=['RMSE'], cv=5, verbose=True)\n",
    "knn_results\n",
    "\n",
    "\n",
    "# Smaller RMSE means our model is able to give better recommendation\n",
    "\n",
    "#how do we try other knn models?"
   ]
  },
  {
   "cell_type": "markdown",
   "metadata": {},
   "source": [
    "# Model based approach\n",
    "\n",
    "To Make things much more easier, we will be using the Surprise scikit which specializes in recommender models.\n",
    "\n",
    "Continuing our Collaborative Filtering example, we will now use a model based approach via SVD (Singular Value Decomposition), as popularized by Simon Funk during the Netflix Prize. When baselines are not used, this is equivalent to Probabilistic Matrix Factorization [salakhutdinov2008a].\n",
    "\n",
    "Supplementary reading for SVD: https://towardsdatascience.com/understanding-singular-value-decomposition-and-its-application-in-data-science-388a54be95d\n",
    "\n",
    "SVD vs PCA https://jonathan-hui.medium.com/machine-learning-singular-value-decomposition-svd-principal-component-analysis-pca-1d45e885e491\n",
    "\n",
    "\"From a simplified perspective, PCA transforms data linearly into new properties that are not correlated with each other. For ML, positioning PCA as feature extraction may allow us to explore its potential better than dimension reduction.\n",
    "What is the difference between SVD and PCA? SVD gives you the whole nine-yard of diagonalizing a matrix into special matrices that are easy to manipulate and to analyze. It lay down the foundation to untangle data into independent components. PCA skips less significant components. Obviously, we can use SVD to find PCA by truncating the less important basis vectors in the original SVD matrix\""
   ]
  },
  {
   "cell_type": "code",
   "execution_count": 27,
   "metadata": {},
   "outputs": [
    {
     "name": "stdout",
     "output_type": "stream",
     "text": [
      "Evaluating RMSE of algorithm SVD on 5 split(s).\n",
      "\n",
      "                  Fold 1  Fold 2  Fold 3  Fold 4  Fold 5  Mean    Std     \n",
      "RMSE (testset)    1.2371  1.2132  1.1355  1.0821  1.0519  1.1440  0.0719  \n",
      "Fit time          0.03    0.02    0.02    0.02    0.02    0.02    0.00    \n",
      "Test time         0.00    0.00    0.00    0.00    0.00    0.00    0.00    \n"
     ]
    },
    {
     "data": {
      "text/plain": [
       "{'test_rmse': array([1.23708007, 1.21322273, 1.13549282, 1.08210698, 1.05189363]),\n",
       " 'fit_time': (0.026752710342407227,\n",
       "  0.02393794059753418,\n",
       "  0.0240938663482666,\n",
       "  0.024698972702026367,\n",
       "  0.024380922317504883),\n",
       " 'test_time': (0.0011839866638183594,\n",
       "  0.0005071163177490234,\n",
       "  0.0005619525909423828,\n",
       "  0.0006427764892578125,\n",
       "  0.0005040168762207031)}"
      ]
     },
     "execution_count": 27,
     "metadata": {},
     "output_type": "execute_result"
    }
   ],
   "source": [
    "# A reader is still needed but only the rating_scale param is requiered.\n",
    "reader = Reader(rating_scale=(1, 5))\n",
    "\n",
    "# The columns must correspond to user id, item id and ratings (in that order).\n",
    "data = Dataset.load_from_df(filtered_movie_ratings_merged_df[['userId', 'movieId', 'rating']], reader)\n",
    "\n",
    "# Use the famous SVD algorithm\n",
    "algo = SVD()\n",
    "\n",
    "# Run 5-fold cross-validation and print results.\n",
    "svd_results = cross_validate(algo, data, measures=['RMSE'], cv=5, verbose=True)\n",
    "svd_results\n",
    "\n",
    "# Smaller RMSE means our model is able to give better recommendation"
   ]
  },
  {
   "cell_type": "markdown",
   "metadata": {},
   "source": [
    "# Let's try to predict"
   ]
  },
  {
   "cell_type": "code",
   "execution_count": 28,
   "metadata": {},
   "outputs": [
    {
     "name": "stdout",
     "output_type": "stream",
     "text": [
      "Prediction for rating: \n",
      "user: 1          item: 3          r_ui = 4.00   est = 3.78   {'was_impossible': False}\n"
     ]
    },
    {
     "data": {
      "text/plain": [
       "Prediction(uid='1', iid='3', r_ui=4, est=3.7848360655737703, details={'was_impossible': False})"
      ]
     },
     "execution_count": 28,
     "metadata": {},
     "output_type": "execute_result"
    }
   ],
   "source": [
    "# User rated 4\n",
    "uid = str(1)  \n",
    "\n",
    "# Movie: Grumpier Old Men (1995)\n",
    "iid = str(3)  \n",
    "\n",
    "#Get the prediction for the specific users and movie.\n",
    "print(\"Prediction for rating: \")\n",
    "pred = algo.predict(uid, iid, r_ui=4, verbose=True)\n",
    "pred"
   ]
  },
  {
   "cell_type": "code",
   "execution_count": 29,
   "metadata": {},
   "outputs": [],
   "source": [
    "# Our model was able to predict that the user (1) will rate the movie (3) a score of 3.7843 (4)"
   ]
  },
  {
   "cell_type": "markdown",
   "metadata": {},
   "source": [
    "# Let's compare the two using RMSE"
   ]
  },
  {
   "cell_type": "code",
   "execution_count": 30,
   "metadata": {},
   "outputs": [
    {
     "data": {
      "text/html": [
       "<div>\n",
       "<style scoped>\n",
       "    .dataframe tbody tr th:only-of-type {\n",
       "        vertical-align: middle;\n",
       "    }\n",
       "\n",
       "    .dataframe tbody tr th {\n",
       "        vertical-align: top;\n",
       "    }\n",
       "\n",
       "    .dataframe thead th {\n",
       "        text-align: right;\n",
       "    }\n",
       "</style>\n",
       "<table border=\"1\" class=\"dataframe\">\n",
       "  <thead>\n",
       "    <tr style=\"text-align: right;\">\n",
       "      <th></th>\n",
       "      <th>knn</th>\n",
       "      <th>svd</th>\n",
       "    </tr>\n",
       "  </thead>\n",
       "  <tbody>\n",
       "    <tr>\n",
       "      <th>Fold 1</th>\n",
       "      <td>1.226435</td>\n",
       "      <td>1.237080</td>\n",
       "    </tr>\n",
       "    <tr>\n",
       "      <th>Fold 2</th>\n",
       "      <td>1.301581</td>\n",
       "      <td>1.213223</td>\n",
       "    </tr>\n",
       "    <tr>\n",
       "      <th>Fold 3</th>\n",
       "      <td>1.373584</td>\n",
       "      <td>1.135493</td>\n",
       "    </tr>\n",
       "    <tr>\n",
       "      <th>Fold 4</th>\n",
       "      <td>1.482950</td>\n",
       "      <td>1.082107</td>\n",
       "    </tr>\n",
       "    <tr>\n",
       "      <th>Fold 5</th>\n",
       "      <td>1.316924</td>\n",
       "      <td>1.051894</td>\n",
       "    </tr>\n",
       "    <tr>\n",
       "      <th>Mean</th>\n",
       "      <td>1.340295</td>\n",
       "      <td>1.143959</td>\n",
       "    </tr>\n",
       "    <tr>\n",
       "      <th>Std</th>\n",
       "      <td>0.095482</td>\n",
       "      <td>0.080378</td>\n",
       "    </tr>\n",
       "  </tbody>\n",
       "</table>\n",
       "</div>"
      ],
      "text/plain": [
       "             knn       svd\n",
       "Fold 1  1.226435  1.237080\n",
       "Fold 2  1.301581  1.213223\n",
       "Fold 3  1.373584  1.135493\n",
       "Fold 4  1.482950  1.082107\n",
       "Fold 5  1.316924  1.051894\n",
       "Mean    1.340295  1.143959\n",
       "Std     0.095482  0.080378"
      ]
     },
     "execution_count": 30,
     "metadata": {},
     "output_type": "execute_result"
    }
   ],
   "source": [
    "metric_df = pd.DataFrame()\n",
    "metric_df['knn'] = knn_results['test_rmse']\n",
    "metric_df['svd'] = svd_results['test_rmse']\n",
    "\n",
    "tmp_dict1 = {'knn':metric_df['knn'].mean(),'svd':metric_df['svd'].mean()}\n",
    "tmp_dict2 = {'knn':metric_df['knn'].std(),'svd':metric_df['svd'].std()}\n",
    "\n",
    "metric_df = metric_df.append(tmp_dict1,ignore_index=True)\n",
    "metric_df = metric_df.append(tmp_dict2,ignore_index=True)\n",
    "metric_df.index = ['Fold 1','Fold 2','Fold 3','Fold 4','Fold 5','Mean','Std']\n",
    "metric_df\n"
   ]
  },
  {
   "cell_type": "markdown",
   "metadata": {},
   "source": [
    "# Top n predictions and the hit rate\n",
    "\n",
    "We want to be able to generate the top N predictions using the two models and calculate hit rate.\n",
    "\n",
    "After generating top n, if one recommendation they actually rated, you consider it a hit."
   ]
  },
  {
   "cell_type": "code",
   "execution_count": 31,
   "metadata": {},
   "outputs": [],
   "source": [
    "from collections import defaultdict\n",
    "\n",
    "# accept list of predictions and n of top n\n",
    "#this is like our scoring algorithm for reco engines\n",
    "\n",
    "def get_top_n(predictions, n=10):\n",
    "\n",
    "    # First map the predictions to each user.\n",
    "    top_n = defaultdict(list)\n",
    "    for uid, iid, true_r, est, _ in predictions:\n",
    "        # top_n = is a dictionary to map rating to a userid as key\n",
    "        # est = predicted rating\n",
    "        # iid = movie id\n",
    "        # uid = user id\n",
    "        top_n[uid].append((iid, est))\n",
    "\n",
    "    # Then sort the predictions for each user and retrieve the k highest ones.\n",
    "    for uid, user_ratings in top_n.items():\n",
    "        \n",
    "        # x[1] refers to the est score, which means sort highest to lowest using the rating per user\n",
    "        user_ratings.sort(key=lambda x: x[1], reverse=True)\n",
    "        top_n[uid] = user_ratings[:n]\n",
    "\n",
    "    return top_n\n"
   ]
  },
  {
   "cell_type": "code",
   "execution_count": 32,
   "metadata": {},
   "outputs": [
    {
     "name": "stdout",
     "output_type": "stream",
     "text": [
      "Computing the msd similarity matrix...\n",
      "Done computing similarity matrix.\n"
     ]
    }
   ],
   "source": [
    "from surprise.model_selection import LeaveOneOut\n",
    "\n",
    "\n",
    "# Let's rebuild our models\n",
    "# A reader is still needed but only the rating_scale param is required.\n",
    "# this indicates our rating is 1 to 5 only\n",
    "\n",
    "reader = Reader(rating_scale=(1, 5))\n",
    "\n",
    "# The columns must correspond to user id, item id and ratings (in that order).\n",
    "data = Dataset.load_from_df(filtered_movie_ratings_merged_df[['userId', 'movieId', 'rating']], reader)\n",
    "\n",
    "#Build a \"leave one out\" train/test split for evaluating top-N recommenders\n",
    "LOOCV = LeaveOneOut(n_splits=1, random_state=1)\n",
    "for train, test in LOOCV.split(data):\n",
    "    LOOCVTrain = train\n",
    "    LOOCVTest = test\n",
    "\n",
    "#Save leave one out test predictions\n",
    "leftoutpredictions = LOOCVTest\n",
    "\n",
    "\n",
    "#And build an anti-test-set for building predictions\n",
    "LOOCVAntiTestSet = LOOCVTrain.build_anti_testset()\n",
    "\n",
    "\n",
    "# generate two models\n",
    "knn = KNNBasic()\n",
    "svd = SVD()\n",
    "\n",
    "# fit using generated training set from data\n",
    "knn.fit(LOOCVTrain)\n",
    "svd.fit(LOOCVTrain)\n",
    "\n",
    "# Then predict ratings for all pairs (u, i) that are NOT in the training set (from data)\n",
    "#testset = trainset.build_anti_testset()\n",
    "\n",
    "# generate predictions\n",
    "knn_predictions = knn.test(LOOCVAntiTestSet)\n",
    "svd_predictions = svd.test(LOOCVAntiTestSet)\n",
    "\n"
   ]
  },
  {
   "cell_type": "code",
   "execution_count": 33,
   "metadata": {},
   "outputs": [],
   "source": [
    "#svd_predictions"
   ]
  },
  {
   "cell_type": "code",
   "execution_count": 34,
   "metadata": {},
   "outputs": [
    {
     "name": "stdout",
     "output_type": "stream",
     "text": [
      "\n",
      "top n recommendations for knn\n",
      "1 [60756, 80906, 89774, 106782, 122882, 131724, 849, 2851, 4518, 5181]\n",
      "2 [101, 151, 157, 163, 216, 231, 260, 362, 527, 596]\n",
      "3 [101, 151, 157, 163, 216, 231, 260, 333, 362, 596]\n",
      "4 [101, 151, 157, 163, 216, 231, 362, 596, 923, 940]\n",
      "5 [101, 151, 157, 163, 216, 231, 260, 362, 919, 923]\n",
      "6 [101, 151, 157, 163, 216, 231, 260, 333, 362, 596]\n",
      "\n",
      "top n recommendations for svd\n",
      "1 [3160, 2186, 1077, 2791, 1250, 70946, 176, 2150, 1834, 1046]\n",
      "2 [26409, 1967, 3703, 290, 475, 930, 1275, 2858, 3365, 1077]\n",
      "3 [3639, 2390, 3247, 3083, 150, 2058, 95, 1049, 1197, 2137]\n",
      "4 [2137, 2617, 2948, 1587, 2987, 590, 4518, 290, 5764, 2761]\n",
      "5 [7991, 5181, 1046, 1240, 106782, 3317, 6835, 3052, 2947, 319]\n",
      "6 [2692, 3044, 4034, 1203, 596, 5181, 1733, 2048, 2791, 608]\n"
     ]
    }
   ],
   "source": [
    "# generate top ten recommendations based on users NOT in the training set\n",
    "knn_top_n = get_top_n(knn_predictions, n=10)\n",
    "svd_top_n = get_top_n(svd_predictions, n=10)\n",
    "\n",
    "# Print the recommended items for each user\n",
    "print(\"\")\n",
    "print(\"top n recommendations for knn\")\n",
    "for uid, user_ratings in knn_top_n.items():\n",
    "    print(uid, [iid for (iid, _) in user_ratings])\n",
    "\n",
    "print(\"\")\n",
    "print(\"top n recommendations for svd\")   \n",
    "for uid, user_ratings in svd_top_n.items():\n",
    "    print(uid, [iid for (iid, _) in user_ratings])"
   ]
  },
  {
   "cell_type": "code",
   "execution_count": 35,
   "metadata": {},
   "outputs": [],
   "source": [
    "# utility function to get the movie title based on the movieId\n",
    "def get_title_from_id(idx):\n",
    "    return filtered_movie_ratings_merged_df[filtered_movie_ratings_merged_df['movieId']==idx]['title'].values[0]"
   ]
  },
  {
   "cell_type": "code",
   "execution_count": 36,
   "metadata": {},
   "outputs": [
    {
     "name": "stdout",
     "output_type": "stream",
     "text": [
      "\n",
      "top n recommendations for knn\n",
      "1 ['Step Brothers (2008)', 'Inside Job (2010)', 'Warrior (2011)', 'Wolf of Wall Street, The (2013)', 'Mad Max: Fury Road (2015)', 'The Jinx: The Life and Deaths of Robert Durst (2015)', 'Escape from L.A. (1996)', 'Saturn 3 (1980)', 'The Lair of the White Worm (1988)', 'Hangar 18 (1980)']\n",
      "2 ['Bottle Rocket (1996)', 'Rob Roy (1995)', 'Canadian Bacon (1995)', 'Desperado (1995)', 'Billy Madison (1995)', 'Dumb & Dumber (Dumb and Dumber) (1994)', 'Star Wars: Episode IV - A New Hope (1977)', 'Jungle Book, The (1994)', \"Schindler's List (1993)\", 'Pinocchio (1940)']\n",
      "3 ['Bottle Rocket (1996)', 'Rob Roy (1995)', 'Canadian Bacon (1995)', 'Desperado (1995)', 'Billy Madison (1995)', 'Dumb & Dumber (Dumb and Dumber) (1994)', 'Star Wars: Episode IV - A New Hope (1977)', 'Tommy Boy (1995)', 'Jungle Book, The (1994)', 'Pinocchio (1940)']\n",
      "4 ['Bottle Rocket (1996)', 'Rob Roy (1995)', 'Canadian Bacon (1995)', 'Desperado (1995)', 'Billy Madison (1995)', 'Dumb & Dumber (Dumb and Dumber) (1994)', 'Jungle Book, The (1994)', 'Pinocchio (1940)', 'Citizen Kane (1941)', 'Adventures of Robin Hood, The (1938)']\n",
      "5 ['Bottle Rocket (1996)', 'Rob Roy (1995)', 'Canadian Bacon (1995)', 'Desperado (1995)', 'Billy Madison (1995)', 'Dumb & Dumber (Dumb and Dumber) (1994)', 'Star Wars: Episode IV - A New Hope (1977)', 'Jungle Book, The (1994)', 'Wizard of Oz, The (1939)', 'Citizen Kane (1941)']\n",
      "6 ['Bottle Rocket (1996)', 'Rob Roy (1995)', 'Canadian Bacon (1995)', 'Desperado (1995)', 'Billy Madison (1995)', 'Dumb & Dumber (Dumb and Dumber) (1994)', 'Star Wars: Episode IV - A New Hope (1977)', 'Tommy Boy (1995)', 'Jungle Book, The (1994)', 'Pinocchio (1940)']\n",
      "\n",
      "top n recommendations for svd\n",
      "1 ['Magnolia (1999)', 'Strangers on a Train (1951)', 'Sleeper (1973)', 'Airplane! (1980)', 'Bridge on the River Kwai, The (1957)', 'Troll 2 (1990)', 'Living in Oblivion (1995)', 'Gods Must Be Crazy, The (1980)', 'Spanish Prisoner, The (1997)', 'Beautiful Thing (1996)']\n",
      "2 ['Clonus Horror, The (1979)', 'Labyrinth (1986)', 'Road Warrior, The (Mad Max 2) (1981)', 'Once Were Warriors (1994)', 'In the Name of the Father (1993)', 'Notorious (1946)', 'Highlander (1986)', 'American Beauty (1999)', 'Searchers, The (1956)', 'Sleeper (1973)']\n",
      "3 ['Man with the Golden Gun, The (1974)', 'Little Voice (1998)', 'Sister Act (1992)', 'All About My Mother (Todo sobre mi madre) (1999)', 'Apollo 13 (1995)', 'Negotiator, The (1998)', 'Broken Arrow (1996)', 'Ghost and the Darkness, The (1996)', 'Princess Bride, The (1987)', \"Charlotte's Web (1973)\"]\n",
      "4 [\"Charlotte's Web (1973)\", 'Mummy, The (1999)', 'From Russia with Love (1963)', 'Conan the Barbarian (1982)', 'Who Framed Roger Rabbit? (1988)', 'Dances with Wolves (1990)', 'The Lair of the White Worm (1988)', 'Once Were Warriors (1994)', 'Looker (1981)', 'Iron Giant, The (1999)']\n",
      "5 ['Death Race 2000 (1975)', 'Hangar 18 (1980)', 'Beautiful Thing (1996)', 'Terminator, The (1984)', 'Wolf of Wall Street, The (2013)', 'Wonder Boys (2000)', 'Alien Contamination (1980)', 'Dogma (1999)', 'Goldfinger (1964)', 'Shallow Grave (1994)']\n",
      "6 ['Run Lola Run (Lola rennt) (1998)', 'Dead Again (1991)', 'Traffic (2000)', '12 Angry Men (1957)', 'Pinocchio (1940)', 'Hangar 18 (1980)', 'Afterglow (1997)', 'Great Mouse Detective, The (1986)', 'Airplane! (1980)', 'Fargo (1996)']\n"
     ]
    }
   ],
   "source": [
    "# Print the recommended items for each user\n",
    "print(\"\")\n",
    "print(\"top n recommendations for knn\")\n",
    "for uid, user_ratings in knn_top_n.items():\n",
    "    print(uid, [get_title_from_id(iid) for (iid, _) in user_ratings])\n",
    "\n",
    "print(\"\")\n",
    "print(\"top n recommendations for svd\")   \n",
    "for uid, user_ratings in svd_top_n.items():\n",
    "    print(uid, [get_title_from_id(iid) for (iid, _) in user_ratings])"
   ]
  },
  {
   "cell_type": "code",
   "execution_count": 37,
   "metadata": {},
   "outputs": [],
   "source": [
    "# HIT RATE - This is usually used for top n recomendation systems, since we're not really predicting against anything\n",
    "# Tries to measure how many movies did we predict are in the top movies of a user we left out,\n",
    "# are also in the top n movies we predicted\n",
    "\n",
    "# Generate the top n recommendation for a user and compare them to those the user has rated, liked or watched.\n",
    "# If they match then increase the hit rate by 1, do this for the complete training set to get the hit rate.\n",
    "# The higher the better, but if its very low or zero, it means we need to use more data \n",
    "\n",
    "def hitrate(topNpredictions,leftoutpredictions):\n",
    "    \n",
    "    # iterate per user\n",
    "    # get movie id\n",
    "    # iterate thru each movie id\n",
    "    # how many hits?\n",
    "    # return hitrate per user\n",
    "    \n",
    "    userHitRates = [] # create list of user hit rates\n",
    "   \n",
    "    leftoutMovieIds_list = []\n",
    "    \n",
    "    # iterate per user per movieId\n",
    "    for leftout in leftoutpredictions:\n",
    "        uid=leftout[0]\n",
    "        leftoutmovieid=leftout[1]\n",
    "    \n",
    "        print(\"uid: \", uid)\n",
    "        print(\"watched: \",leftoutmovieid)\n",
    "        \n",
    "        \n",
    "\n",
    "        predictedMovies_list = [] \n",
    "        for predMovieId, predRating in knn_top_n[uid]:\n",
    "            predictedMovies_list.append(predMovieId)\n",
    "        \n",
    "        print(predictedMovies_list)\n",
    "        hits = len(set([leftoutmovieid]).intersection(predictedMovies_list))\n",
    "        total = len(predictedMovies_list)\n",
    "        userHitRate = hits/total\n",
    "        \n",
    "        userhitRate_dict = {\"uid\":uid,\"userhitrate\":userHitRate}\n",
    "        userHitRates.append(userhitRate_dict)\n",
    "    \n",
    "    return pd.DataFrame(userHitRates)"
   ]
  },
  {
   "cell_type": "code",
   "execution_count": 38,
   "metadata": {},
   "outputs": [
    {
     "data": {
      "text/plain": [
       "[(101, 5),\n",
       " (151, 5),\n",
       " (157, 5),\n",
       " (163, 5),\n",
       " (216, 5),\n",
       " (231, 5),\n",
       " (260, 5),\n",
       " (333, 5),\n",
       " (362, 5),\n",
       " (596, 5)]"
      ]
     },
     "execution_count": 38,
     "metadata": {},
     "output_type": "execute_result"
    }
   ],
   "source": [
    "knn_top_n[3]"
   ]
  },
  {
   "cell_type": "markdown",
   "metadata": {},
   "source": [
    "knn_top_n.items()"
   ]
  },
  {
   "cell_type": "raw",
   "metadata": {},
   "source": [
    "# Hit rate for our models\n",
    "hitrate_df = pd.DataFrame()\n",
    "hitrate_df['knn'] = [hitrate(knn_top_n, leftoutpredictions)]\n",
    "hitrate_df['svd'] = [hitrate(svd_top_n, leftoutpredictions)]\n",
    "hitrate_df.index = ['hitrate'] \n"
   ]
  },
  {
   "cell_type": "code",
   "execution_count": 39,
   "metadata": {
    "scrolled": true
   },
   "outputs": [
    {
     "name": "stdout",
     "output_type": "stream",
     "text": [
      "Metric Comparison (RSME)\n"
     ]
    },
    {
     "data": {
      "text/html": [
       "<div>\n",
       "<style scoped>\n",
       "    .dataframe tbody tr th:only-of-type {\n",
       "        vertical-align: middle;\n",
       "    }\n",
       "\n",
       "    .dataframe tbody tr th {\n",
       "        vertical-align: top;\n",
       "    }\n",
       "\n",
       "    .dataframe thead th {\n",
       "        text-align: right;\n",
       "    }\n",
       "</style>\n",
       "<table border=\"1\" class=\"dataframe\">\n",
       "  <thead>\n",
       "    <tr style=\"text-align: right;\">\n",
       "      <th></th>\n",
       "      <th>knn</th>\n",
       "      <th>svd</th>\n",
       "    </tr>\n",
       "  </thead>\n",
       "  <tbody>\n",
       "    <tr>\n",
       "      <th>Fold 1</th>\n",
       "      <td>1.226435</td>\n",
       "      <td>1.237080</td>\n",
       "    </tr>\n",
       "    <tr>\n",
       "      <th>Fold 2</th>\n",
       "      <td>1.301581</td>\n",
       "      <td>1.213223</td>\n",
       "    </tr>\n",
       "    <tr>\n",
       "      <th>Fold 3</th>\n",
       "      <td>1.373584</td>\n",
       "      <td>1.135493</td>\n",
       "    </tr>\n",
       "    <tr>\n",
       "      <th>Fold 4</th>\n",
       "      <td>1.482950</td>\n",
       "      <td>1.082107</td>\n",
       "    </tr>\n",
       "    <tr>\n",
       "      <th>Fold 5</th>\n",
       "      <td>1.316924</td>\n",
       "      <td>1.051894</td>\n",
       "    </tr>\n",
       "    <tr>\n",
       "      <th>Mean</th>\n",
       "      <td>1.340295</td>\n",
       "      <td>1.143959</td>\n",
       "    </tr>\n",
       "    <tr>\n",
       "      <th>Std</th>\n",
       "      <td>0.095482</td>\n",
       "      <td>0.080378</td>\n",
       "    </tr>\n",
       "  </tbody>\n",
       "</table>\n",
       "</div>"
      ],
      "text/plain": [
       "             knn       svd\n",
       "Fold 1  1.226435  1.237080\n",
       "Fold 2  1.301581  1.213223\n",
       "Fold 3  1.373584  1.135493\n",
       "Fold 4  1.482950  1.082107\n",
       "Fold 5  1.316924  1.051894\n",
       "Mean    1.340295  1.143959\n",
       "Std     0.095482  0.080378"
      ]
     },
     "metadata": {},
     "output_type": "display_data"
    }
   ],
   "source": [
    "# Let's append this to our metric dataframe\n",
    "final_metric_df = metric_df\n",
    "final_metric_df.index = ['Fold 1','Fold 2','Fold 3','Fold 4','Fold 5','Mean','Std']\n",
    "print(\"Metric Comparison (RSME)\")\n",
    "display(final_metric_df)"
   ]
  },
  {
   "cell_type": "code",
   "execution_count": 40,
   "metadata": {
    "scrolled": true
   },
   "outputs": [
    {
     "name": "stdout",
     "output_type": "stream",
     "text": [
      "SVD hitrate metrics\n",
      "uid:  1\n",
      "watched:  661\n",
      "[60756, 80906, 89774, 106782, 122882, 131724, 849, 2851, 4518, 5181]\n",
      "uid:  2\n",
      "watched:  71535\n",
      "[101, 151, 157, 163, 216, 231, 260, 362, 527, 596]\n",
      "uid:  3\n",
      "watched:  1302\n",
      "[101, 151, 157, 163, 216, 231, 260, 333, 362, 596]\n",
      "uid:  4\n",
      "watched:  1136\n",
      "[101, 151, 157, 163, 216, 231, 362, 596, 923, 940]\n",
      "uid:  5\n",
      "watched:  153\n",
      "[101, 151, 157, 163, 216, 231, 260, 362, 919, 923]\n",
      "uid:  6\n",
      "watched:  16\n",
      "[101, 151, 157, 163, 216, 231, 260, 333, 362, 596]\n"
     ]
    },
    {
     "data": {
      "text/html": [
       "<div>\n",
       "<style scoped>\n",
       "    .dataframe tbody tr th:only-of-type {\n",
       "        vertical-align: middle;\n",
       "    }\n",
       "\n",
       "    .dataframe tbody tr th {\n",
       "        vertical-align: top;\n",
       "    }\n",
       "\n",
       "    .dataframe thead th {\n",
       "        text-align: right;\n",
       "    }\n",
       "</style>\n",
       "<table border=\"1\" class=\"dataframe\">\n",
       "  <thead>\n",
       "    <tr style=\"text-align: right;\">\n",
       "      <th></th>\n",
       "      <th>uid</th>\n",
       "      <th>userhitrate</th>\n",
       "    </tr>\n",
       "  </thead>\n",
       "  <tbody>\n",
       "    <tr>\n",
       "      <th>0</th>\n",
       "      <td>1</td>\n",
       "      <td>0.0</td>\n",
       "    </tr>\n",
       "    <tr>\n",
       "      <th>1</th>\n",
       "      <td>2</td>\n",
       "      <td>0.0</td>\n",
       "    </tr>\n",
       "    <tr>\n",
       "      <th>2</th>\n",
       "      <td>3</td>\n",
       "      <td>0.0</td>\n",
       "    </tr>\n",
       "    <tr>\n",
       "      <th>3</th>\n",
       "      <td>4</td>\n",
       "      <td>0.0</td>\n",
       "    </tr>\n",
       "    <tr>\n",
       "      <th>4</th>\n",
       "      <td>5</td>\n",
       "      <td>0.0</td>\n",
       "    </tr>\n",
       "    <tr>\n",
       "      <th>5</th>\n",
       "      <td>6</td>\n",
       "      <td>0.0</td>\n",
       "    </tr>\n",
       "  </tbody>\n",
       "</table>\n",
       "</div>"
      ],
      "text/plain": [
       "   uid  userhitrate\n",
       "0    1          0.0\n",
       "1    2          0.0\n",
       "2    3          0.0\n",
       "3    4          0.0\n",
       "4    5          0.0\n",
       "5    6          0.0"
      ]
     },
     "execution_count": 40,
     "metadata": {},
     "output_type": "execute_result"
    }
   ],
   "source": [
    "print(\"SVD hitrate metrics\")\n",
    "hitrate(svd_top_n, leftoutpredictions)"
   ]
  },
  {
   "cell_type": "code",
   "execution_count": 41,
   "metadata": {},
   "outputs": [
    {
     "name": "stdout",
     "output_type": "stream",
     "text": [
      "KNN hitrate metrics\n",
      "uid:  1\n",
      "watched:  661\n",
      "[60756, 80906, 89774, 106782, 122882, 131724, 849, 2851, 4518, 5181]\n",
      "uid:  2\n",
      "watched:  71535\n",
      "[101, 151, 157, 163, 216, 231, 260, 362, 527, 596]\n",
      "uid:  3\n",
      "watched:  1302\n",
      "[101, 151, 157, 163, 216, 231, 260, 333, 362, 596]\n",
      "uid:  4\n",
      "watched:  1136\n",
      "[101, 151, 157, 163, 216, 231, 362, 596, 923, 940]\n",
      "uid:  5\n",
      "watched:  153\n",
      "[101, 151, 157, 163, 216, 231, 260, 362, 919, 923]\n",
      "uid:  6\n",
      "watched:  16\n",
      "[101, 151, 157, 163, 216, 231, 260, 333, 362, 596]\n"
     ]
    },
    {
     "data": {
      "text/html": [
       "<div>\n",
       "<style scoped>\n",
       "    .dataframe tbody tr th:only-of-type {\n",
       "        vertical-align: middle;\n",
       "    }\n",
       "\n",
       "    .dataframe tbody tr th {\n",
       "        vertical-align: top;\n",
       "    }\n",
       "\n",
       "    .dataframe thead th {\n",
       "        text-align: right;\n",
       "    }\n",
       "</style>\n",
       "<table border=\"1\" class=\"dataframe\">\n",
       "  <thead>\n",
       "    <tr style=\"text-align: right;\">\n",
       "      <th></th>\n",
       "      <th>uid</th>\n",
       "      <th>userhitrate</th>\n",
       "    </tr>\n",
       "  </thead>\n",
       "  <tbody>\n",
       "    <tr>\n",
       "      <th>0</th>\n",
       "      <td>1</td>\n",
       "      <td>0.0</td>\n",
       "    </tr>\n",
       "    <tr>\n",
       "      <th>1</th>\n",
       "      <td>2</td>\n",
       "      <td>0.0</td>\n",
       "    </tr>\n",
       "    <tr>\n",
       "      <th>2</th>\n",
       "      <td>3</td>\n",
       "      <td>0.0</td>\n",
       "    </tr>\n",
       "    <tr>\n",
       "      <th>3</th>\n",
       "      <td>4</td>\n",
       "      <td>0.0</td>\n",
       "    </tr>\n",
       "    <tr>\n",
       "      <th>4</th>\n",
       "      <td>5</td>\n",
       "      <td>0.0</td>\n",
       "    </tr>\n",
       "    <tr>\n",
       "      <th>5</th>\n",
       "      <td>6</td>\n",
       "      <td>0.0</td>\n",
       "    </tr>\n",
       "  </tbody>\n",
       "</table>\n",
       "</div>"
      ],
      "text/plain": [
       "   uid  userhitrate\n",
       "0    1          0.0\n",
       "1    2          0.0\n",
       "2    3          0.0\n",
       "3    4          0.0\n",
       "4    5          0.0\n",
       "5    6          0.0"
      ]
     },
     "execution_count": 41,
     "metadata": {},
     "output_type": "execute_result"
    }
   ],
   "source": [
    "print(\"KNN hitrate metrics\")\n",
    "hitrate(knn_top_n, leftoutpredictions)"
   ]
  },
  {
   "cell_type": "markdown",
   "metadata": {},
   "source": [
    "# Does better RSME mean better hit rate?"
   ]
  },
  {
   "cell_type": "markdown",
   "metadata": {},
   "source": [
    "# Additional References\n",
    "- https://en.wikipedia.org/wiki/Collaborative_filtering\n",
    "- http://recommender-systems.org/collaborative-filtering/\n",
    "- https://medium.com/@rishabhbhatia315/recommendation-system-evaluation-metrics-3f6739288870\n",
    "- http://surpriselib.com/\n",
    "\n",
    "## Data sets to try\n",
    "- https://data.world/socialmediadata/beeradvocate\n",
    "- http://eigentaste.berkeley.edu/dataset/\n",
    "- https://cseweb.ucsd.edu/~jmcauley/datasets.html"
   ]
  },
  {
   "cell_type": "code",
   "execution_count": null,
   "metadata": {},
   "outputs": [],
   "source": []
  }
 ],
 "metadata": {
  "kernelspec": {
   "display_name": "Python 3",
   "language": "python",
   "name": "python3"
  },
  "language_info": {
   "codemirror_mode": {
    "name": "ipython",
    "version": 3
   },
   "file_extension": ".py",
   "mimetype": "text/x-python",
   "name": "python",
   "nbconvert_exporter": "python",
   "pygments_lexer": "ipython3",
   "version": "3.11.4"
  }
 },
 "nbformat": 4,
 "nbformat_minor": 5
}
